{
  "nbformat": 4,
  "nbformat_minor": 0,
  "metadata": {
    "colab": {
      "provenance": [],
      "authorship_tag": "ABX9TyOoM+AvPReGxR5qx9nbPY+C",
      "include_colab_link": true
    },
    "kernelspec": {
      "name": "python3",
      "display_name": "Python 3"
    },
    "language_info": {
      "name": "python"
    }
  },
  "cells": [
    {
      "cell_type": "markdown",
      "metadata": {
        "id": "view-in-github",
        "colab_type": "text"
      },
      "source": [
        "<a href=\"https://colab.research.google.com/github/reinanbrNotebooks/Colab_Notebooks/blob/main/grade_termodinamica.ipynb\" target=\"_parent\"><img src=\"https://colab.research.google.com/assets/colab-badge.svg\" alt=\"Open In Colab\"/></a>"
      ]
    },
    {
      "cell_type": "code",
      "execution_count": 60,
      "metadata": {
        "id": "6OgA40KVXXz0"
      },
      "outputs": [],
      "source": [
        "import numpy as np\n",
        "import matplotlib.pyplot as plt\n",
        "\n",
        "import statistics as sts"
      ]
    },
    {
      "cell_type": "code",
      "source": [
        "def generate_matriz(N):\n",
        "  limit_i = N\n",
        "  matriz_base = np.ones((N,2*N))\n",
        "\n",
        "  j_n = 0\n",
        "  for j in matriz_base:\n",
        "    i_n = 0\n",
        "    for i in j:\n",
        "      n = 1\n",
        "      if i_n>=limit_i:\n",
        "        n = 50\n",
        "      else:\n",
        "        n = 100\n",
        "      matriz_base[j_n][i_n] = n\n",
        "      i_n = i_n + 1\n",
        "    j_n = j_n + 1\n",
        "  return matriz_base"
      ],
      "metadata": {
        "id": "ySfv6iieXxyo"
      },
      "execution_count": 79,
      "outputs": []
    },
    {
      "cell_type": "code",
      "source": [
        "img = generate_matriz(20)\n",
        "\n",
        "plt.imshow(img)\n",
        "plt.colorbar()"
      ],
      "metadata": {
        "colab": {
          "base_uri": "https://localhost:8080/",
          "height": 437
        },
        "id": "Sjv_I0Z7ioIB",
        "outputId": "fe4c114f-796e-41b7-e3d5-38c0c209f779"
      },
      "execution_count": 92,
      "outputs": [
        {
          "output_type": "execute_result",
          "data": {
            "text/plain": [
              "<matplotlib.colorbar.Colorbar at 0x7c70a2757f10>"
            ]
          },
          "metadata": {},
          "execution_count": 92
        },
        {
          "output_type": "display_data",
          "data": {
            "text/plain": [
              "<Figure size 640x480 with 2 Axes>"
            ],
            "image/png": "[encoded data removed]"
          },
          "metadata": {}
        }
      ]
    },
    {
      "cell_type": "code",
      "source": [
        "img"
      ],
      "metadata": {
        "colab": {
          "base_uri": "https://localhost:8080/"
        },
        "id": "a-Z90EXFDLpw",
        "outputId": "88f04702-8045-4328-d112-9244cdf5d3c7"
      },
      "execution_count": 87,
      "outputs": [
        {
          "output_type": "execute_result",
          "data": {
            "text/plain": [
              "array([[100., 100., 100., 100., 100., 100., 100., 100., 100., 100.,  50.,\n",
              "         50.,  50.,  50.,  50.,  50.,  50.,  50.,  50.,  50.],\n",
              "       [100., 100., 100., 100., 100., 100., 100., 100., 100., 100.,  50.,\n",
              "         50.,  50.,  50.,  50.,  50.,  50.,  50.,  50.,  50.],\n",
              "       [100., 100., 100., 100., 100., 100., 100., 100., 100., 100.,  50.,\n",
              "         50.,  50.,  50.,  50.,  50.,  50.,  50.,  50.,  50.],\n",
              "       [100., 100., 100., 100., 100., 100., 100., 100., 100., 100.,  50.,\n",
              "         50.,  50.,  50.,  50.,  50.,  50.,  50.,  50.,  50.],\n",
              "       [100., 100., 100., 100., 100., 100., 100., 100., 100., 100.,  50.,\n",
              "         50.,  50.,  50.,  50.,  50.,  50.,  50.,  50.,  50.],\n",
              "       [100., 100., 100., 100., 100., 100., 100., 100., 100., 100.,  50.,\n",
              "         50.,  50.,  50.,  50.,  50.,  50.,  50.,  50.,  50.],\n",
              "       [100., 100., 100., 100., 100., 100., 100., 100., 100., 100.,  50.,\n",
              "         50.,  50.,  50.,  50.,  50.,  50.,  50.,  50.,  50.],\n",
              "       [100., 100., 100., 100., 100., 100., 100., 100., 100., 100.,  50.,\n",
              "         50.,  50.,  50.,  50.,  50.,  50.,  50.,  50.,  50.],\n",
              "       [100., 100., 100., 100., 100., 100., 100., 100., 100., 100.,  50.,\n",
              "         50.,  50.,  50.,  50.,  50.,  50.,  50.,  50.,  50.],\n",
              "       [100., 100., 100., 100., 100., 100., 100., 100., 100., 100.,  50.,\n",
              "         50.,  50.,  50.,  50.,  50.,  50.,  50.,  50.,  50.],\n",
              "       [100., 100., 100., 100., 100., 100., 100., 100., 100., 100.,  50.,\n",
              "         50.,  50.,  50.,  50.,  50.,  50.,  50.,  50.,  50.],\n",
              "       [100., 100., 100., 100., 100., 100., 100., 100., 100., 100.,  50.,\n",
              "         50.,  50.,  50.,  50.,  50.,  50.,  50.,  50.,  50.],\n",
              "       [100., 100., 100., 100., 100., 100., 100., 100., 100., 100.,  50.,\n",
              "         50.,  50.,  50.,  50.,  50.,  50.,  50.,  50.,  50.],\n",
              "       [100., 100., 100., 100., 100., 100., 100., 100., 100., 100.,  50.,\n",
              "         50.,  50.,  50.,  50.,  50.,  50.,  50.,  50.,  50.],\n",
              "       [100., 100., 100., 100., 100., 100., 100., 100., 100., 100.,  50.,\n",
              "         50.,  50.,  50.,  50.,  50.,  50.,  50.,  50.,  50.],\n",
              "       [100., 100., 100., 100., 100., 100., 100., 100., 100., 100.,  50.,\n",
              "         50.,  50.,  50.,  50.,  50.,  50.,  50.,  50.,  50.],\n",
              "       [100., 100., 100., 100., 100., 100., 100., 100., 100., 100.,  50.,\n",
              "         50.,  50.,  50.,  50.,  50.,  50.,  50.,  50.,  50.],\n",
              "       [100., 100., 100., 100., 100., 100., 100., 100., 100., 100.,  50.,\n",
              "         50.,  50.,  50.,  50.,  50.,  50.,  50.,  50.,  50.],\n",
              "       [100., 100., 100., 100., 100., 100., 100., 100., 100., 100.,  50.,\n",
              "         50.,  50.,  50.,  50.,  50.,  50.,  50.,  50.,  50.],\n",
              "       [100., 100., 100., 100., 100., 100., 100., 100., 100., 100.,  50.,\n",
              "         50.,  50.,  50.,  50.,  50.,  50.,  50.,  50.,  50.]])"
            ]
          },
          "metadata": {},
          "execution_count": 87
        }
      ]
    },
    {
      "cell_type": "code",
      "source": [
        "def way_to(img,N):\n",
        "  len_j = len(img)\n",
        "  len_i = len(img[0])\n",
        "  new_img = np.copy(img)\n",
        "  j_n = 0\n",
        "  for x in range(N):\n",
        "    j_n = 0\n",
        "    for j in range(len_j):\n",
        "      i_n = 0\n",
        "      for i in range(len_i):\n",
        "\n",
        "\n",
        "        if new_img[j_n][i_n-1] > new_img[j_n][i_n]:\n",
        "            #print(f\"img[{j_n}][{i_n-1}]\")\n",
        "            new_img[j_n][i_n-1] = new_img[j_n][i_n-1] - 1 #new_img[j_n][i_n-1]*.5\n",
        "            new_img[j_n][i_n] = new_img[j_n][i_n] + 1 # new_img[j_n][i_n-1]*.5\n",
        "\n",
        "\n",
        "        i_n += 1\n",
        "      i_n = 0\n",
        "      for i in range(len_i):\n",
        "\n",
        "        if new_img[j_n][i_n-1] < new_img[j_n][i_n]:\n",
        "            #print(f\"img[{j_n}][{i_n-1}]\")\n",
        "            new_img[j_n][i_n-1] = new_img[j_n][i_n-1] + 1 #new_img[j_n][i_n]*.5\n",
        "            new_img[j_n][i_n] = new_img[j_n][i_n] - 1 #new_img[j_n][i_n]*.5\n",
        "        i_n += 1\n",
        "\n",
        "      j_n += 1\n",
        "  return new_img\n",
        "\n",
        "\n"
      ],
      "metadata": {
        "id": "pT1bPrid7n_T"
      },
      "execution_count": 83,
      "outputs": []
    },
    {
      "cell_type": "code",
      "source": [
        "def generate_entropy_to_zero(img):\n",
        "\n",
        "  N = 1\n",
        "  new_img = way_to(img,N)\n",
        "  std = stdev_matrix(new_img)\n",
        "  mod = mode_matrix(new_img)\n",
        "  s = entropy(new_img)\n",
        "\n",
        "  new_img_list = [new_img]\n",
        "  std_list = [std]\n",
        "  mod_list = [mod]\n",
        "  s_list = [s]\n",
        "  N_list = [N]\n",
        "\n",
        "  while(s>.5):\n",
        "    new_img = way_to(img,N)\n",
        "    new_img_list.append(new_img)\n",
        "\n",
        "    std = stdev_matrix(new_img)\n",
        "    std_list.append(std)\n",
        "\n",
        "    mod = mode_matrix(new_img)\n",
        "    mod_list.append(mod)\n",
        "\n",
        "    s = entropy(new_img)\n",
        "    s_list.append(s)\n",
        "\n",
        "    N += 1\n",
        "    N_list.append(N)\n",
        "\n",
        "    print(f\"N = {N} -> [s={s} | mod={mod} | std={std}]\")\n",
        "\n",
        "  #return new_img_list,s_list,mod_list,std_list,N_list\n",
        "\n",
        "generate_entropy_to_zero(img)"
      ],
      "metadata": {
        "colab": {
          "base_uri": "https://localhost:8080/"
        },
        "id": "6zjGJhrMJdI_",
        "outputId": "c4ac57bf-84ab-46f9-dbb9-525cf45a4b38"
      },
      "execution_count": 109,
      "outputs": [
        {
          "output_type": "stream",
          "name": "stdout",
          "text": [
            "N = 2 -> [s=1.4689955935892813 | mod=100.0 | std=24.91738539893178]\n",
            "N = 3 -> [s=1.7219280948873623 | mod=100.0 | std=24.818742160977184]\n",
            "N = 4 -> [s=1.8812908992306925 | mod=100.0 | std=24.719705293292517]\n",
            "N = 5 -> [s=1.9709505944546686 | mod=100.0 | std=24.620270045663627]\n",
            "N = 6 -> [s=2.0 | mod=100.0 | std=24.520431571560266]\n",
            "N = 7 -> [s=1.9709505944546688 | mod=99.0 | std=24.4201849253796]\n",
            "N = 8 -> [s=1.8812908992306925 | mod=99.0 | std=24.31952505958751]\n",
            "N = 9 -> [s=1.721928094887362 | mod=99.0 | std=24.218446821752888]\n",
            "N = 10 -> [s=1.4689955935892813 | mod=99.0 | std=24.116944951470124]\n",
            "N = 11 -> [s=1.0 | mod=99.0 | std=24.015014077164476]\n",
            "N = 12 -> [s=1.4689955935892813 | mod=99.0 | std=23.916835467374586]\n",
            "N = 13 -> [s=1.7219280948873623 | mod=99.0 | std=23.818252169723237]\n",
            "N = 14 -> [s=1.8812908992306925 | mod=99.0 | std=23.719259138252706]\n",
            "N = 15 -> [s=1.9709505944546686 | mod=99.0 | std=23.619851221263932]\n",
            "N = 16 -> [s=2.0 | mod=99.0 | std=23.52002315818805]\n",
            "N = 17 -> [s=1.9709505944546688 | mod=98.0 | std=23.419769576337874]\n",
            "N = 18 -> [s=1.8812908992306925 | mod=98.0 | std=23.319084987533703]\n",
            "N = 19 -> [s=1.721928094887362 | mod=98.0 | std=23.217963784597448]\n",
            "N = 20 -> [s=1.4689955935892813 | mod=98.0 | std=23.11640023770867]\n",
            "N = 21 -> [s=1.0 | mod=98.0 | std=23.014388490615957]\n",
            "N = 22 -> [s=1.4689955935892813 | mod=98.0 | std=22.916292142424485]\n",
            "N = 23 -> [s=1.7219280948873623 | mod=98.0 | std=22.81777407016066]\n",
            "N = 24 -> [s=1.8812908992306925 | mod=98.0 | std=22.71882878752437]\n",
            "N = 25 -> [s=1.9709505944546686 | mod=98.0 | std=22.619450688219555]\n",
            "N = 26 -> [s=2.0 | mod=98.0 | std=22.519634042247354]\n",
            "N = 27 -> [s=1.9709505944546688 | mod=97.0 | std=22.41937299205078]\n",
            "N = 28 -> [s=1.8812908992306925 | mod=97.0 | std=22.318661548503435]\n",
            "N = 29 -> [s=1.721928094887362 | mod=97.0 | std=22.21749358673466]\n",
            "N = 30 -> [s=1.4689955935892813 | mod=97.0 | std=22.11586284178272]\n",
            "N = 31 -> [s=1.0 | mod=97.0 | std=22.013762904067438]\n",
            "N = 32 -> [s=1.4689955935892813 | mod=97.0 | std=21.915756328936872]\n",
            "N = 33 -> [s=1.7219280948873623 | mod=97.0 | std=21.817309498244224]\n",
            "N = 34 -> [s=1.8812908992306925 | mod=97.0 | std=21.718416425122225]\n",
            "N = 35 -> [s=1.9709505944546686 | mod=97.0 | std=21.619070985772257]\n",
            "N = 36 -> [s=2.0 | mod=97.0 | std=21.519266915039204]\n",
            "N = 37 -> [s=1.9709505944546688 | mod=96.0 | std=21.41899780180067]\n",
            "N = 38 -> [s=1.8812908992306925 | mod=96.0 | std=21.318257084161054]\n",
            "N = 39 -> [s=1.721928094887362 | mod=96.0 | std=21.217038044440226]\n",
            "N = 40 -> [s=1.4689955935892813 | mod=96.0 | std=21.11533380394601]\n",
            "N = 41 -> [s=1.0 | mod=96.0 | std=21.013137317518918]\n",
            "N = 42 -> [s=1.4689955935892813 | mod=96.0 | std=20.915229104904355]\n",
            "N = 43 -> [s=1.7219280948873623 | mod=96.0 | std=20.816860404402256]\n",
            "N = 44 -> [s=1.8812908992306925 | mod=96.0 | std=20.71802465685623]\n",
            "N = 45 -> [s=1.9709505944546686 | mod=96.0 | std=20.618715145901668]\n",
            "N = 46 -> [s=2.0 | mod=96.0 | std=20.518924992639526]\n",
            "N = 47 -> [s=1.9709505944546688 | mod=95.0 | std=20.418647150075813]\n",
            "N = 48 -> [s=1.8812908992306925 | mod=95.0 | std=20.317874397314085]\n",
            "N = 49 -> [s=1.721928094887362 | mod=95.0 | std=20.216599333487405]\n",
            "N = 50 -> [s=1.4689955935892813 | mod=95.0 | std=20.114814371415303]\n",
            "N = 51 -> [s=1.0 | mod=95.0 | std=20.0125117309704]\n",
            "N = 52 -> [s=1.4689955935892813 | mod=95.0 | std=19.91471176494531]\n",
            "N = 53 -> [s=1.7219280948873623 | mod=95.0 | std=19.816429132905714]\n",
            "N = 54 -> [s=1.8812908992306925 | mod=95.0 | std=19.717656617308702]\n",
            "N = 55 -> [s=1.9709505944546686 | mod=95.0 | std=19.618386818918648]\n",
            "N = 56 -> [s=2.0 | mod=95.0 | std=19.518612150338562]\n",
            "N = 57 -> [s=1.9709505944546688 | mod=94.0 | std=19.418324829242287]\n",
            "N = 58 -> [s=1.8812908992306925 | mod=94.0 | std=19.31751687129044]\n",
            "N = 59 -> [s=1.721928094887362 | mod=94.0 | std=19.21618008271191]\n",
            "N = 60 -> [s=1.4689955935892813 | mod=94.0 | std=19.11430605253137]\n",
            "N = 61 -> [s=1.0 | mod=94.0 | std=19.011886144421876]\n",
            "N = 62 -> [s=1.4689955935892813 | mod=94.0 | std=18.914205877593037]\n",
            "N = 63 -> [s=1.7219280948873623 | mod=94.0 | std=18.81601852655044]\n",
            "N = 64 -> [s=1.8812908992306925 | mod=94.0 | std=18.717316111104278]\n",
            "N = 65 -> [s=1.9709505944546686 | mod=94.0 | std=18.618090439529993]\n",
            "N = 66 -> [s=2.0 | mod=94.0 | std=18.518333100633882]\n",
            "N = 67 -> [s=1.9709505944546688 | mod=93.0 | std=18.41803545543191]\n",
            "N = 68 -> [s=1.8812908992306925 | mod=93.0 | std=18.317188628418428]\n",
            "N = 69 -> [s=1.721928094887362 | mod=93.0 | std=18.215783498399833]\n",
            "N = 70 -> [s=1.4689955935892813 | mod=93.0 | std=18.113810688866383]\n",
            "N = 71 -> [s=1.0 | mod=93.0 | std=18.01126055787336]\n",
            "N = 72 -> [s=1.4689955935892813 | mod=93.0 | std=17.913713361779852]\n",
            "N = 73 -> [s=1.7219280948873623 | mod=93.0 | std=17.815632066598578]\n",
            "N = 74 -> [s=1.8812908992306925 | mod=93.0 | std=17.717007802019534]\n",
            "N = 75 -> [s=1.9709505944546686 | mod=93.0 | std=17.617831449449916]\n",
            "N = 76 -> [s=2.0 | mod=93.0 | std=17.51809363217448]\n",
            "N = 77 -> [s=1.9709505944546688 | mod=92.0 | std=17.417784705008774]\n",
            "N = 78 -> [s=1.8812908992306925 | mod=92.0 | std=17.31689474341295]\n",
            "N = 79 -> [s=1.721928094887362 | mod=92.0 | std=17.215413532031363]\n",
            "N = 80 -> [s=1.4689955935892813 | mod=92.0 | std=17.113330552620496]\n",
            "N = 81 -> [s=1.0 | mod=92.0 | std=17.010634971324837]\n",
            "N = 82 -> [s=1.4689955935892813 | mod=92.0 | std=16.9132365904624]\n",
            "N = 83 -> [s=1.7219280948873623 | mod=92.0 | std=16.81527406265663]\n",
            "N = 84 -> [s=1.8812908992306925 | mod=92.0 | std=16.716737469959543]\n",
            "N = 85 -> [s=1.9709505944546686 | mod=92.0 | std=16.6176166003686]\n",
            "N = 86 -> [s=2.0 | mod=92.0 | std=16.517900935474298]\n",
            "N = 87 -> [s=1.9709505944546688 | mod=91.0 | std=16.41757963743253]\n",
            "N = 88 -> [s=1.8812908992306925 | mod=91.0 | std=16.316641535216]\n",
            "N = 89 -> [s=1.721928094887362 | mod=91.0 | std=16.215075110095313]\n",
            "N = 90 -> [s=1.4689955935892813 | mod=91.0 | std=16.1128684802964]\n",
            "N = 91 -> [s=1.0 | mod=91.0 | std=16.010009384776318]\n",
            "N = 92 -> [s=1.4689955935892813 | mod=91.0 | std=15.91277853333017]\n",
            "N = 93 -> [s=1.7219280948873623 | mod=91.0 | std=15.814949914590347]\n",
            "N = 94 -> [s=1.8812908992306925 | mod=91.0 | std=15.716512366017755]\n",
            "N = 95 -> [s=1.9709505944546686 | mod=91.0 | std=15.61745437327661]\n",
            "N = 96 -> [s=2.0 | mod=91.0 | std=15.517764054513925]\n",
            "N = 97 -> [s=1.9709505944546688 | mod=90.0 | std=15.417429143724066]\n",
            "N = 98 -> [s=1.8812908992306925 | mod=90.0 | std=15.316436973132488]\n",
            "N = 99 -> [s=1.721928094887362 | mod=90.0 | std=15.21477445452701]\n",
            "N = 100 -> [s=1.4689955935892813 | mod=90.0 | std=15.112428059458725]\n",
            "N = 101 -> [s=1.0 | mod=90.0 | std=15.009383798227798]\n",
            "N = 102 -> [s=1.4689955935892813 | mod=90.0 | std=14.91234295694617]\n",
            "N = 103 -> [s=1.7219280948873623 | mod=90.0 | std=14.814666480507107]\n",
            "N = 104 -> [s=1.8812908992306925 | mod=90.0 | std=14.716341712251033]\n",
            "N = 105 -> [s=1.9709505944546686 | mod=90.0 | std=14.617355569829261]\n",
            "N = 106 -> [s=2.0 | mod=90.0 | std=14.517694524885739]\n",
            "N = 107 -> [s=1.9709505944546688 | mod=89.0 | std=14.417344581474643]\n",
            "N = 108 -> [s=1.8812908992306925 | mod=89.0 | std=14.316291253116328]\n",
            "N = 109 -> [s=1.721928094887362 | mod=89.0 | std=14.214519538385176]\n",
            "N = 110 -> [s=1.4689955935892813 | mod=89.0 | std=14.11201389491283]\n",
            "N = 111 -> [s=1.0 | mod=89.0 | std=14.008758211679279]\n",
            "N = 112 -> [s=1.4689955935892813 | mod=89.0 | std=13.911934711220491]\n",
            "N = 113 -> [s=1.7219280948873623 | mod=89.0 | std=13.814432604534705]\n",
            "N = 114 -> [s=1.8812908992306925 | mod=89.0 | std=13.716237419977883]\n",
            "N = 115 -> [s=1.9709505944546686 | mod=89.0 | std=13.617334164114924]\n",
            "N = 116 -> [s=2.0 | mod=89.0 | std=13.517707294994274]\n",
            "N = 117 -> [s=1.9709505944546688 | mod=88.0 | std=13.417340693636403]\n",
            "N = 118 -> [s=1.8812908992306925 | mod=88.0 | std=13.31621763358805]\n",
            "N = 119 -> [s=1.721928094887362 | mod=88.0 | std=13.21432074837944]\n",
            "N = 120 -> [s=1.4689955935892813 | mod=88.0 | std=13.111631996705112]\n",
            "N = 121 -> [s=1.0 | mod=88.0 | std=13.008132625130758]\n",
            "N = 122 -> [s=1.4689955935892813 | mod=88.0 | std=12.911560149023522]\n",
            "N = 123 -> [s=1.7219280948873623 | mod=88.0 | std=12.814259891648577]\n",
            "N = 124 -> [s=1.8812908992306925 | mod=88.0 | std=12.716215146794838]\n",
            "N = 125 -> [s=1.9709505944546686 | mod=88.0 | std=12.617408559146982]\n",
            "N = 126 -> [s=2.0 | mod=88.0 | std=12.517822088418441]\n",
            "N = 127 -> [s=1.9709505944546688 | mod=87.0 | std=12.417436970895311]\n",
            "N = 128 -> [s=1.8812908992306925 | mod=87.0 | std=12.316233678159033]\n",
            "N = 129 -> [s=1.721928094887362 | mod=87.0 | std=12.214191872730666]\n",
            "N = 130 -> [s=1.4689955935892813 | mod=87.0 | std=12.111290360351408]\n",
            "N = 131 -> [s=1.0 | mod=87.0 | std=12.007507038582238]\n",
            "N = 132 -> [s=1.4689955935892813 | mod=87.0 | std=11.911227757177436]\n",
            "N = 133 -> [s=1.7219280948873623 | mod=87.0 | std=11.81416387583592]\n",
            "N = 134 -> [s=1.8812908992306925 | mod=87.0 | std=11.716295894473584]\n",
            "N = 135 -> [s=1.9709505944546686 | mod=87.0 | std=11.617603491624715]\n",
            "N = 136 -> [s=2.0 | mod=87.0 | std=11.518065475172596]\n",
            "N = 137 -> [s=1.9709505944546688 | mod=86.0 | std=11.417659729214002]\n",
            "N = 138 -> [s=1.8812908992306925 | mod=86.0 | std=11.316363156680124]\n",
            "N = 139 -> [s=1.721928094887362 | mod=86.0 | std=11.2141516172923]\n",
            "N = 140 -> [s=1.4689955935892813 | mod=86.0 | std=11.11099986038033]\n",
            "N = 141 -> [s=1.0 | mod=86.0 | std=11.006881452033719]\n",
            "N = 142 -> [s=1.4689955935892813 | mod=86.0 | std=10.91094913441389]\n",
            "N = 143 -> [s=1.7219280948873623 | mod=86.0 | std=10.81416583599542]\n",
            "N = 144 -> [s=1.8812908992306925 | mod=86.0 | std=10.716508500582352]\n",
            "N = 145 -> [s=1.9709505944546686 | mod=86.0 | std=10.61795301165423]\n",
            "N = 146 -> [s=2.0 | mod=86.0 | std=10.518474122815554]\n",
            "N = 147 -> [s=1.9709505944546688 | mod=85.0 | std=10.418045382267431]\n",
            "N = 148 -> [s=1.8812908992306925 | mod=85.0 | std=10.316639050661172]\n",
            "N = 149 -> [s=1.721928094887362 | mod=85.0 | std=10.214226011610979]\n",
            "N = 150 -> [s=1.4689955935892813 | mod=85.0 | std=10.110775674047646]\n",
            "N = 151 -> [s=1.0 | mod=85.0 | std=10.0062558654852]\n",
            "N = 152 -> [s=1.4689955935892813 | mod=85.0 | std=9.910740561284578]\n",
            "N = 153 -> [s=1.7219280948873623 | mod=85.0 | std=9.814295721070655]\n",
            "N = 154 -> [s=1.8812908992306925 | mod=85.0 | std=9.716893666607668]\n",
            "N = 155 -> [s=1.9709505944546686 | mod=85.0 | std=9.618505318171563]\n",
            "N = 156 -> [s=2.0 | mod=85.0 | std=9.519100093140581]\n",
            "N = 157 -> [s=1.9709505944546688 | mod=84.0 | std=9.418645794951813]\n",
            "N = 158 -> [s=1.8812908992306925 | mod=84.0 | std=9.317108491280859]\n",
            "N = 159 -> [s=1.721928094887362 | mod=84.0 | std=9.214452380138077]\n",
            "N = 160 -> [s=1.4689955935892813 | mod=84.0 | std=9.110639642383333]\n",
            "N = 161 -> [s=1.0 | mod=84.0 | std=9.00563027893668]\n",
            "N = 162 -> [s=1.4689955935892813 | mod=84.0 | std=8.910625626819177]\n",
            "N = 163 -> [s=1.7219280948873623 | mod=84.0 | std=8.814597064060965]\n",
            "N = 164 -> [s=1.8812908992306925 | mod=84.0 | std=8.717510753774711]\n",
            "N = 165 -> [s=1.9709505944546686 | mod=84.0 | std=8.619330953305091]\n",
            "N = 166 -> [s=2.0 | mod=84.0 | std=8.520019860483236]\n",
            "N = 167 -> [s=1.9709505944546688 | mod=83.0 | std=8.419537443556761]\n",
            "N = 168 -> [s=1.8812908992306925 | mod=83.0 | std=8.317841252625579]\n",
            "N = 169 -> [s=1.721928094887362 | mod=83.0 | std=8.214886210064348]\n",
            "N = 170 -> [s=1.4689955935892813 | mod=83.0 | std=8.110624376996565]\n",
            "N = 171 -> [s=1.0 | mod=83.0 | std=8.005004692388159]\n",
            "N = 172 -> [s=1.4689955935892813 | mod=83.0 | std=7.910639846338164]\n",
            "N = 173 -> [s=1.7219280948873623 | mod=83.0 | std=7.815135663044484]\n",
            "N = 174 -> [s=1.8812908992306925 | mod=83.0 | std=7.7184498498795975]\n",
            "N = 175 -> [s=1.9709505944546686 | mod=83.0 | std=7.620537431075516]\n",
            "N = 176 -> [s=2.0 | mod=83.0 | std=7.521350503183565]\n",
            "N = 177 -> [s=1.9709505944546688 | mod=82.0 | std=7.420837961110344]\n",
            "N = 178 -> [s=1.8812908992306925 | mod=82.0 | std=7.318945190283431]\n",
            "N = 179 -> [s=1.721928094887362 | mod=82.0 | std=7.215613719683836]\n",
            "N = 180 -> [s=1.4689955935892813 | mod=82.0 | std=7.110780829487452]\n",
            "N = 181 -> [s=1.0 | mod=82.0 | std=7.004379105839639]\n",
            "N = 182 -> [s=1.4689955935892813 | mod=82.0 | std=6.910839285103559]\n",
            "N = 183 -> [s=1.7219280948873623 | mod=82.0 | std=6.816015888386589]\n",
            "N = 184 -> [s=1.8812908992306925 | mod=82.0 | std=6.719854578556458]\n",
            "N = 185 -> [s=1.9709505944546686 | mod=82.0 | std=6.622297073006763]\n",
            "N = 186 -> [s=2.0 | mod=82.0 | std=6.523280730534422]\n",
            "N = 187 -> [s=1.9709505944546688 | mod=81.0 | std=6.4227380808787045]\n",
            "N = 188 -> [s=1.8812908992306925 | mod=81.0 | std=6.320596286884428]\n",
            "N = 189 -> [s=1.721928094887362 | mod=81.0 | std=6.216776527106711]\n",
            "N = 190 -> [s=1.4689955935892813 | mod=81.0 | std=6.1111932839824945]\n",
            "N = 191 -> [s=1.0 | mod=81.0 | std=6.003753519291119]\n",
            "N = 192 -> [s=1.4689955935892813 | mod=81.0 | std=5.911317924075762]\n",
            "N = 193 -> [s=1.7219280948873623 | mod=81.0 | std=5.817413762025033]\n",
            "N = 194 -> [s=1.8812908992306925 | mod=81.0 | std=5.721968730926195]\n",
            "N = 195 -> [s=1.9709505944546686 | mod=81.0 | std=5.624904393569369]\n",
            "N = 196 -> [s=2.0 | mod=81.0 | std=5.52613542323158]\n",
            "N = 197 -> [s=1.9709505944546688 | mod=80.0 | std=5.425568725488024]\n",
            "N = 198 -> [s=1.8812908992306925 | mod=80.0 | std=5.323102410633541]\n",
            "N = 199 -> [s=1.721928094887362 | mod=80.0 | std=5.218624584427538]\n",
            "N = 200 -> [s=1.4689955935892813 | mod=80.0 | std=5.112011916289942]\n",
            "N = 201 -> [s=1.0 | mod=80.0 | std=5.0031279327426]\n",
            "N = 202 -> [s=1.4689955935892813 | mod=80.0 | std=4.912246197349968]\n",
            "N = 203 -> [s=1.7219280948873623 | mod=80.0 | std=4.8196510553534075]\n",
            "N = 204 -> [s=1.8812908992306925 | mod=80.0 | std=4.725241780836108]\n",
            "N = 205 -> [s=1.9709505944546686 | mod=80.0 | std=4.628907374246021]\n",
            "N = 206 -> [s=2.0 | mod=80.0 | std=4.530525032635751]\n",
            "N = 207 -> [s=1.9709505944546688 | mod=79.0 | std=4.4299583139493715]\n",
            "N = 208 -> [s=1.8812908992306925 | mod=79.0 | std=4.327054917067629]\n",
            "N = 209 -> [s=1.721928094887362 | mod=79.0 | std=4.22164397448543]\n",
            "N = 210 -> [s=1.4689955935892813 | mod=79.0 | std=4.113532720095845]\n",
            "N = 211 -> [s=1.0 | mod=79.0 | std=4.002502346194079]\n",
            "N = 212 -> [s=1.4689955935892813 | mod=79.0 | std=3.913968438320653]\n",
            "N = 213 -> [s=1.7219280948873623 | mod=79.0 | std=3.8233849977541254]\n",
            "N = 214 -> [s=1.8812908992306925 | mod=79.0 | std=3.7306027322582094]\n",
            "N = 215 -> [s=1.9709505944546686 | mod=79.0 | std=3.6354532937191637]\n",
            "N = 216 -> [s=2.0 | mod=79.0 | std=3.537745688386125]\n",
            "N = 217 -> [s=1.9709505944546688 | mod=78.0 | std=3.437261767828531]\n",
            "N = 218 -> [s=1.8812908992306925 | mod=78.0 | std=3.3337504953815635]\n",
            "N = 219 -> [s=1.721928094887362 | mod=78.0 | std=3.226920555318634]\n",
            "N = 220 -> [s=1.4689955935892813 | mod=78.0 | std=3.1164306787122706]\n",
            "N = 221 -> [s=1.0 | mod=78.0 | std=3.0018767596455596]\n",
            "N = 222 -> [s=1.4689955935892813 | mod=78.0 | std=2.917299829957891]\n",
            "N = 223 -> [s=1.7219280948873623 | mod=78.0 | std=2.8301965507089]\n",
            "N = 224 -> [s=1.8812908992306925 | mod=78.0 | std=2.740326026847311]\n",
            "N = 225 -> [s=1.9709505944546686 | mod=78.0 | std=2.647406457495521]\n",
            "N = 226 -> [s=2.0 | mod=78.0 | std=2.5511046958055643]\n",
            "N = 227 -> [s=1.9709505944546688 | mod=77.0 | std=2.4510221106170005]\n",
            "N = 228 -> [s=1.8812908992306925 | mod=77.0 | std=2.3466750104148706]\n",
            "N = 229 -> [s=1.721928094887362 | mod=77.0 | std=2.2374668315480895]\n",
            "N = 230 -> [s=1.4689955935892813 | mod=77.0 | std=2.122647413031675]\n",
            "N = 231 -> [s=1.0 | mod=77.0 | std=2.0012511730970397]\n",
            "N = 232 -> [s=1.4689955935892813 | mod=77.0 | std=1.924741745919594]\n",
            "N = 233 -> [s=1.7219280948873623 | mod=77.0 | std=1.8450624160577702]\n",
            "N = 234 -> [s=1.8812908992306925 | mod=77.0 | std=1.7617831449449917]\n",
            "N = 235 -> [s=1.9709505944546686 | mod=77.0 | std=1.674366859584719]\n",
            "N = 236 -> [s=2.0 | mod=77.0 | std=1.5821279692676329]\n",
            "N = 237 -> [s=1.9709505944546688 | mod=76.0 | std=1.4841675922220687]\n",
            "N = 238 -> [s=1.8812908992306925 | mod=76.0 | std=1.3792671867573671]\n",
            "N = 239 -> [s=1.721928094887362 | mod=76.0 | std=1.2657023754141061]\n",
            "N = 240 -> [s=1.4689955935892813 | mod=76.0 | std=1.1408887035080328]\n",
            "N = 241 -> [s=1.0 | mod=76.0 | std=1.0006255865485199]\n",
            "N = 242 -> [s=1.3689955935892815 | mod=76.0 | std=0.9492767815605797]\n",
            "N = 243 -> [s=1.5219280948873621 | mod=76.0 | std=0.8949867326192359]\n",
            "N = 244 -> [s=1.5812908992306924 | mod=76.0 | std=0.8371834297923595]\n",
            "N = 245 -> [s=1.5709505944546684 | mod=75.0 | std=0.7750812464982892]\n",
            "N = 246 -> [s=1.5 | mod=75.0 | std=0.707549137677225]\n",
            "N = 247 -> [s=1.3709505944546687 | mod=75.0 | std=0.6328511877070531]\n",
            "N = 248 -> [s=1.1812908992306925 | mod=75.0 | std=0.5480652053694622]\n",
            "N = 249 -> [s=0.9219280948873623 | mod=75.0 | std=0.44749336630961795]\n",
            "N = 250 -> [s=0.5689955935892812 | mod=75.0 | std=0.31642559385352653]\n",
            "N = 251 -> [s=0.0 | mod=75.0 | std=0.0]\n"
          ]
        }
      ]
    },
    {
      "cell_type": "code",
      "source": [
        "\n",
        "N = 300\n",
        "n = range(1,N+1)\n",
        "entr = [entropy(way_to(img,i)) for i in n]\n",
        "std = [stdev_matrix(way_to(img,i)) for i in n]\n",
        "mod = [ mode_matrix(way_to(img,i)) for i in n]\n",
        "new_img = way_to(img,N)\n",
        "\n",
        "# ploting\n",
        "plt.figure(figsize=(16, 9))\n",
        "ax1 = plt.subplot(2,1,1)\n",
        "ax2 = plt.subplot(2,3,4)\n",
        "ax3 = plt.subplot(2,3,5)\n",
        "ax4 = plt.subplot(2,3,6)\n",
        "\n",
        "\n",
        "cax = ax1.imshow(new_img)\n",
        "plt.colorbar(cax)\n",
        "ax2.plot(n,entr)\n",
        "ax3.plot(n,std)\n",
        "ax4.plot(n,mod)\n",
        "#new_img\n"
      ],
      "metadata": {
        "id": "mBCFtf-xJV5o"
      },
      "execution_count": null,
      "outputs": []
    },
    {
      "cell_type": "code",
      "source": [
        "print(sum(img[0]))\n",
        "print(sum(new_img[10]))"
      ],
      "metadata": {
        "colab": {
          "base_uri": "https://localhost:8080/"
        },
        "id": "AJr99nXzEn3R",
        "outputId": "32d1d5c2-40b1-4b21-c1f9-064999c244c7"
      },
      "execution_count": 85,
      "outputs": [
        {
          "output_type": "stream",
          "name": "stdout",
          "text": [
            "3000.0\n",
            "3000.0\n"
          ]
        }
      ]
    },
    {
      "cell_type": "code",
      "source": [
        "from collections import Counter\n",
        "\n",
        "def count_matrix(img):\n",
        "  base_matriz = []\n",
        "  for j in img:\n",
        "    for i in j:\n",
        "      base_matriz.append(i)\n",
        "  return Counter(base_matriz),len(base_matriz)\n",
        "\n",
        "def freq_count(img):\n",
        "  count, size = count_matrix(img)\n",
        "  res = {}\n",
        "  for key in count.keys():\n",
        "    #print(key,count[key])\n",
        "    res[key] = count[key]/size\n",
        "  return res\n",
        "\n",
        "\n",
        "def stdev_matrix(img):\n",
        "  res = []\n",
        "  for j in img:\n",
        "    for i in j:\n",
        "      res.append(i)\n",
        "  return sts.stdev(res)\n",
        "\n",
        "\n",
        "def mode_matrix(img):\n",
        "  res = []\n",
        "  for j in img:\n",
        "    for i in j:\n",
        "      res.append(i)\n",
        "  return sts.mode(res)\n",
        "\n",
        "def entropy(img):\n",
        "  freq = freq_count(img)\n",
        "  res = 0\n",
        "  for f in freq.values():\n",
        "    #print(f)\n",
        "    res += - f * np.log2(f)\n",
        "  return res\n"
      ],
      "metadata": {
        "id": "uLmAbCG2j4YE"
      },
      "execution_count": 108,
      "outputs": []
    },
    {
      "cell_type": "code",
      "source": [
        "entropy(new_img)"
      ],
      "metadata": {
        "colab": {
          "base_uri": "https://localhost:8080/"
        },
        "id": "58wQghWpkQQ_",
        "outputId": "5f3c1d4c-9349-439b-a97a-81d94a1e94cc"
      },
      "execution_count": 106,
      "outputs": [
        {
          "output_type": "stream",
          "name": "stdout",
          "text": [
            "1.0\n"
          ]
        },
        {
          "output_type": "execute_result",
          "data": {
            "text/plain": [
              "0.0"
            ]
          },
          "metadata": {},
          "execution_count": 106
        }
      ]
    },
    {
      "cell_type": "code",
      "source": [],
      "metadata": {
        "id": "GIigc-FEkSjp"
      },
      "execution_count": null,
      "outputs": []
    }
  ]
}