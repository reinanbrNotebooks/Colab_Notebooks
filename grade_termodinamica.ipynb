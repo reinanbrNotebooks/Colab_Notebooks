{
  "nbformat": 4,
  "nbformat_minor": 0,
  "metadata": {
    "colab": {
      "provenance": [],
      "authorship_tag": "ABX9TyPPMRPWwmvEHa0xM8dfHC1+",
      "include_colab_link": true
    },
    "kernelspec": {
      "name": "python3",
      "display_name": "Python 3"
    },
    "language_info": {
      "name": "python"
    },
    "widgets": {
      "application/vnd.jupyter.widget-state+json": {
        "614f4485667045d289b29da0a1f3608a": {
          "model_module": "@jupyter-widgets/controls",
          "model_name": "VideoModel",
          "model_module_version": "1.5.0",
          "state": {
            "_dom_classes": [],
            "_model_module": "@jupyter-widgets/controls",
            "_model_module_version": "1.5.0",
            "_model_name": "VideoModel",
            "_view_count": null,
            "_view_module": "@jupyter-widgets/controls",
            "_view_module_version": "1.5.0",
            "_view_name": "VideoView",
            "autoplay": true,
            "controls": true,
            "format": "mp4",
            "height": "350",
            "layout": "IPY_MODEL_729dc90e69ec442596119f19fff3aad1",
            "loop": true,
            "width": "600"
          }
        },
        "729dc90e69ec442596119f19fff3aad1": {
          "model_module": "@jupyter-widgets/base",
          "model_name": "LayoutModel",
          "model_module_version": "1.2.0",
          "state": {
            "_model_module": "@jupyter-widgets/base",
            "_model_module_version": "1.2.0",
            "_model_name": "LayoutModel",
            "_view_count": null,
            "_view_module": "@jupyter-widgets/base",
            "_view_module_version": "1.2.0",
            "_view_name": "LayoutView",
            "align_content": null,
            "align_items": null,
            "align_self": null,
            "border": null,
            "bottom": null,
            "display": null,
            "flex": null,
            "flex_flow": null,
            "grid_area": null,
            "grid_auto_columns": null,
            "grid_auto_flow": null,
            "grid_auto_rows": null,
            "grid_column": null,
            "grid_gap": null,
            "grid_row": null,
            "grid_template_areas": null,
            "grid_template_columns": null,
            "grid_template_rows": null,
            "height": null,
            "justify_content": null,
            "justify_items": null,
            "left": null,
            "margin": null,
            "max_height": null,
            "max_width": null,
            "min_height": null,
            "min_width": null,
            "object_fit": null,
            "object_position": null,
            "order": null,
            "overflow": null,
            "overflow_x": null,
            "overflow_y": null,
            "padding": null,
            "right": null,
            "top": null,
            "visibility": null,
            "width": null
          }
        }
      }
    }
  },
  "cells": [
    {
      "cell_type": "markdown",
      "metadata": {
        "id": "view-in-github",
        "colab_type": "text"
      },
      "source": [
        "<a href=\"https://colab.research.google.com/github/reinanbrNotebooks/Colab_Notebooks/blob/main/grade_termodinamica.ipynb\" target=\"_parent\"><img src=\"https://colab.research.google.com/assets/colab-badge.svg\" alt=\"Open In Colab\"/></a>"
      ]
    },
    {
      "cell_type": "code",
      "execution_count": 1,
      "metadata": {
        "id": "6OgA40KVXXz0"
      },
      "outputs": [],
      "source": [
        "import numpy as np\n",
        "import matplotlib.pyplot as plt\n",
        "from animateplot import AnimatePlot as ap\n",
        "\n",
        "import statistics as sts"
      ]
    },
    {
      "cell_type": "code",
      "source": [
        "from collections import Counter\n",
        "\n",
        "def count_matrix(img):\n",
        "  base_matriz = []\n",
        "  for j in img:\n",
        "    for i in j:\n",
        "      base_matriz.append(i)\n",
        "  return Counter(base_matriz),len(base_matriz)\n",
        "\n",
        "def freq_count(img):\n",
        "  count, size = count_matrix(img)\n",
        "  res = {}\n",
        "  for key in count.keys():\n",
        "    #print(key,count[key])\n",
        "    res[key] = count[key]/size\n",
        "  return res\n",
        "\n",
        "\n",
        "def stdev_matrix(img):\n",
        "  res = []\n",
        "  for j in img:\n",
        "    for i in j:\n",
        "      res.append(i)\n",
        "  return sts.stdev(res)\n",
        "\n",
        "\n",
        "def mode_matrix(img):\n",
        "  res = []\n",
        "  for j in img:\n",
        "    for i in j:\n",
        "      res.append(i)\n",
        "  return sts.mode(res)\n",
        "\n",
        "def entropy(img):\n",
        "  freq = freq_count(img)\n",
        "  res = 0\n",
        "  for f in freq.values():\n",
        "    #print(f)\n",
        "    res += - f * np.log2(f)\n",
        "  return res\n",
        "\n",
        "def H(img):\n",
        "  res = []\n",
        "  for j in img:\n",
        "    for i in j:\n",
        "      res.append(i)\n",
        "  res = np.array(res)\n",
        "  pk = res/res.sum()\n",
        "  s = np.sum(-pk*np.log2(pk))\n",
        "  return s"
      ],
      "metadata": {
        "id": "eQKY8oeJfV3w"
      },
      "execution_count": 2,
      "outputs": []
    },
    {
      "cell_type": "code",
      "source": [
        "def generate_matriz(N):\n",
        "  limit_i = N\n",
        "  matriz_base = np.ones((N,2*N))\n",
        "\n",
        "  j_n = 0\n",
        "  for j in matriz_base:\n",
        "    i_n = 0\n",
        "    for i in j:\n",
        "      n = 1\n",
        "      if i_n>=limit_i:\n",
        "        n = 50\n",
        "      else:\n",
        "        n = 100\n",
        "      matriz_base[j_n][i_n] = n\n",
        "      i_n = i_n + 1\n",
        "    j_n = j_n + 1\n",
        "  return matriz_base"
      ],
      "metadata": {
        "id": "ySfv6iieXxyo"
      },
      "execution_count": 3,
      "outputs": []
    },
    {
      "cell_type": "code",
      "source": [
        "img = generate_matriz(20)\n",
        "\n",
        "plt.imshow(img)\n",
        "plt.colorbar()"
      ],
      "metadata": {
        "colab": {
          "base_uri": "https://localhost:8080/",
          "height": 437
        },
        "id": "Sjv_I0Z7ioIB",
        "outputId": "1631faa0-59ad-4ed0-e4bf-f722e428d5e3"
      },
      "execution_count": 4,
      "outputs": [
        {
          "output_type": "execute_result",
          "data": {
            "text/plain": [
              "<matplotlib.colorbar.Colorbar at 0x7e23efbda230>"
            ]
          },
          "metadata": {},
          "execution_count": 4
        },
        {
          "output_type": "display_data",
          "data": {
            "text/plain": [
              "<Figure size 640x480 with 2 Axes>"
            ],
            "image/png": "[encoded data removed]"
          },
          "metadata": {}
        }
      ]
    },
    {
      "cell_type": "code",
      "source": [
        "img"
      ],
      "metadata": {
        "colab": {
          "base_uri": "https://localhost:8080/"
        },
        "id": "a-Z90EXFDLpw",
        "outputId": "df68ef87-219c-4861-bd42-ecea69155727"
      },
      "execution_count": 5,
      "outputs": [
        {
          "output_type": "execute_result",
          "data": {
            "text/plain": [
              "array([[100., 100., 100., 100., 100., 100., 100., 100., 100., 100., 100.,\n",
              "        100., 100., 100., 100., 100., 100., 100., 100., 100.,  50.,  50.,\n",
              "         50.,  50.,  50.,  50.,  50.,  50.,  50.,  50.,  50.,  50.,  50.,\n",
              "         50.,  50.,  50.,  50.,  50.,  50.,  50.],\n",
              "       [100., 100., 100., 100., 100., 100., 100., 100., 100., 100., 100.,\n",
              "        100., 100., 100., 100., 100., 100., 100., 100., 100.,  50.,  50.,\n",
              "         50.,  50.,  50.,  50.,  50.,  50.,  50.,  50.,  50.,  50.,  50.,\n",
              "         50.,  50.,  50.,  50.,  50.,  50.,  50.],\n",
              "       [100., 100., 100., 100., 100., 100., 100., 100., 100., 100., 100.,\n",
              "        100., 100., 100., 100., 100., 100., 100., 100., 100.,  50.,  50.,\n",
              "         50.,  50.,  50.,  50.,  50.,  50.,  50.,  50.,  50.,  50.,  50.,\n",
              "         50.,  50.,  50.,  50.,  50.,  50.,  50.],\n",
              "       [100., 100., 100., 100., 100., 100., 100., 100., 100., 100., 100.,\n",
              "        100., 100., 100., 100., 100., 100., 100., 100., 100.,  50.,  50.,\n",
              "         50.,  50.,  50.,  50.,  50.,  50.,  50.,  50.,  50.,  50.,  50.,\n",
              "         50.,  50.,  50.,  50.,  50.,  50.,  50.],\n",
              "       [100., 100., 100., 100., 100., 100., 100., 100., 100., 100., 100.,\n",
              "        100., 100., 100., 100., 100., 100., 100., 100., 100.,  50.,  50.,\n",
              "         50.,  50.,  50.,  50.,  50.,  50.,  50.,  50.,  50.,  50.,  50.,\n",
              "         50.,  50.,  50.,  50.,  50.,  50.,  50.],\n",
              "       [100., 100., 100., 100., 100., 100., 100., 100., 100., 100., 100.,\n",
              "        100., 100., 100., 100., 100., 100., 100., 100., 100.,  50.,  50.,\n",
              "         50.,  50.,  50.,  50.,  50.,  50.,  50.,  50.,  50.,  50.,  50.,\n",
              "         50.,  50.,  50.,  50.,  50.,  50.,  50.],\n",
              "       [100., 100., 100., 100., 100., 100., 100., 100., 100., 100., 100.,\n",
              "        100., 100., 100., 100., 100., 100., 100., 100., 100.,  50.,  50.,\n",
              "         50.,  50.,  50.,  50.,  50.,  50.,  50.,  50.,  50.,  50.,  50.,\n",
              "         50.,  50.,  50.,  50.,  50.,  50.,  50.],\n",
              "       [100., 100., 100., 100., 100., 100., 100., 100., 100., 100., 100.,\n",
              "        100., 100., 100., 100., 100., 100., 100., 100., 100.,  50.,  50.,\n",
              "         50.,  50.,  50.,  50.,  50.,  50.,  50.,  50.,  50.,  50.,  50.,\n",
              "         50.,  50.,  50.,  50.,  50.,  50.,  50.],\n",
              "       [100., 100., 100., 100., 100., 100., 100., 100., 100., 100., 100.,\n",
              "        100., 100., 100., 100., 100., 100., 100., 100., 100.,  50.,  50.,\n",
              "         50.,  50.,  50.,  50.,  50.,  50.,  50.,  50.,  50.,  50.,  50.,\n",
              "         50.,  50.,  50.,  50.,  50.,  50.,  50.],\n",
              "       [100., 100., 100., 100., 100., 100., 100., 100., 100., 100., 100.,\n",
              "        100., 100., 100., 100., 100., 100., 100., 100., 100.,  50.,  50.,\n",
              "         50.,  50.,  50.,  50.,  50.,  50.,  50.,  50.,  50.,  50.,  50.,\n",
              "         50.,  50.,  50.,  50.,  50.,  50.,  50.],\n",
              "       [100., 100., 100., 100., 100., 100., 100., 100., 100., 100., 100.,\n",
              "        100., 100., 100., 100., 100., 100., 100., 100., 100.,  50.,  50.,\n",
              "         50.,  50.,  50.,  50.,  50.,  50.,  50.,  50.,  50.,  50.,  50.,\n",
              "         50.,  50.,  50.,  50.,  50.,  50.,  50.],\n",
              "       [100., 100., 100., 100., 100., 100., 100., 100., 100., 100., 100.,\n",
              "        100., 100., 100., 100., 100., 100., 100., 100., 100.,  50.,  50.,\n",
              "         50.,  50.,  50.,  50.,  50.,  50.,  50.,  50.,  50.,  50.,  50.,\n",
              "         50.,  50.,  50.,  50.,  50.,  50.,  50.],\n",
              "       [100., 100., 100., 100., 100., 100., 100., 100., 100., 100., 100.,\n",
              "        100., 100., 100., 100., 100., 100., 100., 100., 100.,  50.,  50.,\n",
              "         50.,  50.,  50.,  50.,  50.,  50.,  50.,  50.,  50.,  50.,  50.,\n",
              "         50.,  50.,  50.,  50.,  50.,  50.,  50.],\n",
              "       [100., 100., 100., 100., 100., 100., 100., 100., 100., 100., 100.,\n",
              "        100., 100., 100., 100., 100., 100., 100., 100., 100.,  50.,  50.,\n",
              "         50.,  50.,  50.,  50.,  50.,  50.,  50.,  50.,  50.,  50.,  50.,\n",
              "         50.,  50.,  50.,  50.,  50.,  50.,  50.],\n",
              "       [100., 100., 100., 100., 100., 100., 100., 100., 100., 100., 100.,\n",
              "        100., 100., 100., 100., 100., 100., 100., 100., 100.,  50.,  50.,\n",
              "         50.,  50.,  50.,  50.,  50.,  50.,  50.,  50.,  50.,  50.,  50.,\n",
              "         50.,  50.,  50.,  50.,  50.,  50.,  50.],\n",
              "       [100., 100., 100., 100., 100., 100., 100., 100., 100., 100., 100.,\n",
              "        100., 100., 100., 100., 100., 100., 100., 100., 100.,  50.,  50.,\n",
              "         50.,  50.,  50.,  50.,  50.,  50.,  50.,  50.,  50.,  50.,  50.,\n",
              "         50.,  50.,  50.,  50.,  50.,  50.,  50.],\n",
              "       [100., 100., 100., 100., 100., 100., 100., 100., 100., 100., 100.,\n",
              "        100., 100., 100., 100., 100., 100., 100., 100., 100.,  50.,  50.,\n",
              "         50.,  50.,  50.,  50.,  50.,  50.,  50.,  50.,  50.,  50.,  50.,\n",
              "         50.,  50.,  50.,  50.,  50.,  50.,  50.],\n",
              "       [100., 100., 100., 100., 100., 100., 100., 100., 100., 100., 100.,\n",
              "        100., 100., 100., 100., 100., 100., 100., 100., 100.,  50.,  50.,\n",
              "         50.,  50.,  50.,  50.,  50.,  50.,  50.,  50.,  50.,  50.,  50.,\n",
              "         50.,  50.,  50.,  50.,  50.,  50.,  50.],\n",
              "       [100., 100., 100., 100., 100., 100., 100., 100., 100., 100., 100.,\n",
              "        100., 100., 100., 100., 100., 100., 100., 100., 100.,  50.,  50.,\n",
              "         50.,  50.,  50.,  50.,  50.,  50.,  50.,  50.,  50.,  50.,  50.,\n",
              "         50.,  50.,  50.,  50.,  50.,  50.,  50.],\n",
              "       [100., 100., 100., 100., 100., 100., 100., 100., 100., 100., 100.,\n",
              "        100., 100., 100., 100., 100., 100., 100., 100., 100.,  50.,  50.,\n",
              "         50.,  50.,  50.,  50.,  50.,  50.,  50.,  50.,  50.,  50.,  50.,\n",
              "         50.,  50.,  50.,  50.,  50.,  50.,  50.]])"
            ]
          },
          "metadata": {},
          "execution_count": 5
        }
      ]
    },
    {
      "cell_type": "code",
      "source": [
        "def way_to(img,N):\n",
        "  len_j = len(img)\n",
        "  len_i = len(img[0])\n",
        "  new_img = np.copy(img)\n",
        "  j_n = 0\n",
        "  for x in range(N):\n",
        "    j_n = 0\n",
        "    for j in range(len_j):\n",
        "      i_n = 0\n",
        "      for i in range(len_i):\n",
        "\n",
        "\n",
        "        if new_img[j_n][i_n-1] > new_img[j_n][i_n]:\n",
        "            #print(f\"img[{j_n}][{i_n-1}]\")\n",
        "            new_img[j_n][i_n-1] = new_img[j_n][i_n-1] - 1 #new_img[j_n][i_n-1]*.5\n",
        "            new_img[j_n][i_n] = new_img[j_n][i_n] + 1 # new_img[j_n][i_n-1]*.5\n",
        "\n",
        "\n",
        "        i_n += 1\n",
        "      i_n = 0\n",
        "      for i in range(len_i):\n",
        "\n",
        "        if new_img[j_n][i_n-1] < new_img[j_n][i_n]:\n",
        "            #print(f\"img[{j_n}][{i_n-1}]\")\n",
        "            new_img[j_n][i_n-1] = new_img[j_n][i_n-1] + 1 #new_img[j_n][i_n]*.5\n",
        "            new_img[j_n][i_n] = new_img[j_n][i_n] - 1 #new_img[j_n][i_n]*.5\n",
        "        i_n += 1\n",
        "\n",
        "      j_n += 1\n",
        "  return new_img\n",
        "\n",
        "\n"
      ],
      "metadata": {
        "id": "pT1bPrid7n_T"
      },
      "execution_count": 6,
      "outputs": []
    },
    {
      "cell_type": "code",
      "source": [
        "from scipy.stats import entropy as ent\n",
        "\n",
        "def generate_entropy_to_zero(img):\n",
        "\n",
        "  N = 1\n",
        "  new_img = way_to(img,N)\n",
        "  std = stdev_matrix(new_img)\n",
        "  mod = mode_matrix(new_img)\n",
        "  s =H(new_img)\n",
        "  #print(s)\n",
        "\n",
        "  new_img_list = [new_img]\n",
        "  std_list = [std]\n",
        "  mod_list = [mod]\n",
        "  s_list = [s]\n",
        "  N_list = [N]\n",
        "\n",
        "  while(std>0):\n",
        "    new_img = way_to(img,N)\n",
        "    new_img_list.append(new_img)\n",
        "\n",
        "    std = stdev_matrix(new_img)\n",
        "    std_list.append(std)\n",
        "\n",
        "    mod = mode_matrix(new_img)\n",
        "    mod_list.append(mod)\n",
        "\n",
        "    s = H(new_img)\n",
        "    s_list.append(s)\n",
        "\n",
        "    N += 1\n",
        "    N_list.append(N)\n",
        "\n",
        "    print(f\"N = {N} -> [s={s} | mod={mod} | std={std}]\")\n",
        "\n",
        "  return new_img_list,s_list,mod_list,std_list,N_list\n",
        "\n",
        "new_img_list, s_list, mod_list, std_list, N_list = generate_entropy_to_zero(img)"
      ],
      "metadata": {
        "colab": {
          "base_uri": "https://localhost:8080/"
        },
        "id": "6zjGJhrMJdI_",
        "outputId": "cd56ac34-c799-4b35-f70c-7555660cef5d"
      },
      "execution_count": 7,
      "outputs": [
        {
          "output_type": "stream",
          "name": "stdout",
          "text": [
            "N = 2 -> [s=9.56280431092107 | mod=100.0 | std=24.91738539893178]\n",
            "N = 3 -> [s=9.563456598012925 | mod=100.0 | std=24.818742160977184]\n",
            "N = 4 -> [s=9.564108885104778 | mod=100.0 | std=24.719705293292517]\n",
            "N = 5 -> [s=9.564761172196631 | mod=100.0 | std=24.620270045663627]\n",
            "N = 6 -> [s=9.565413459288486 | mod=100.0 | std=24.520431571560266]\n",
            "N = 7 -> [s=9.56606574638034 | mod=99.0 | std=24.4201849253796]\n",
            "N = 8 -> [s=9.566718033472196 | mod=99.0 | std=24.31952505958751]\n",
            "N = 9 -> [s=9.567370320564049 | mod=99.0 | std=24.218446821752888]\n",
            "N = 10 -> [s=9.568022607655902 | mod=99.0 | std=24.116944951470124]\n",
            "N = 11 -> [s=9.568674894747755 | mod=99.0 | std=24.015014077164476]\n",
            "N = 12 -> [s=9.569298606588955 | mod=99.0 | std=23.916835467374586]\n",
            "N = 13 -> [s=9.569922318430155 | mod=99.0 | std=23.818252169723237]\n",
            "N = 14 -> [s=9.570546030271355 | mod=99.0 | std=23.719259138252706]\n",
            "N = 15 -> [s=9.571169742112556 | mod=99.0 | std=23.619851221263932]\n",
            "N = 16 -> [s=9.571793453953756 | mod=99.0 | std=23.52002315818805]\n",
            "N = 17 -> [s=9.572417165794956 | mod=98.0 | std=23.419769576337874]\n",
            "N = 18 -> [s=9.573040877636156 | mod=98.0 | std=23.319084987533703]\n",
            "N = 19 -> [s=9.573664589477357 | mod=98.0 | std=23.217963784597448]\n",
            "N = 20 -> [s=9.574288301318557 | mod=98.0 | std=23.11640023770867]\n",
            "N = 21 -> [s=9.574912013159757 | mod=98.0 | std=23.014388490615957]\n",
            "N = 22 -> [s=9.575507413348177 | mod=98.0 | std=22.916292142424485]\n",
            "N = 23 -> [s=9.576102813536593 | mod=98.0 | std=22.81777407016066]\n",
            "N = 24 -> [s=9.57669821372501 | mod=98.0 | std=22.71882878752437]\n",
            "N = 25 -> [s=9.577293613913428 | mod=98.0 | std=22.619450688219555]\n",
            "N = 26 -> [s=9.577889014101846 | mod=98.0 | std=22.519634042247354]\n",
            "N = 27 -> [s=9.578484414290264 | mod=97.0 | std=22.41937299205078]\n",
            "N = 28 -> [s=9.57907981447868 | mod=97.0 | std=22.318661548503435]\n",
            "N = 29 -> [s=9.579675214667098 | mod=97.0 | std=22.21749358673466]\n",
            "N = 30 -> [s=9.580270614855515 | mod=97.0 | std=22.11586284178272]\n",
            "N = 31 -> [s=9.580866015043933 | mod=97.0 | std=22.013762904067438]\n",
            "N = 32 -> [s=9.581433351442561 | mod=97.0 | std=21.915756328936872]\n",
            "N = 33 -> [s=9.58200068784119 | mod=97.0 | std=21.817309498244224]\n",
            "N = 34 -> [s=9.582568024239817 | mod=97.0 | std=21.718416425122225]\n",
            "N = 35 -> [s=9.583135360638446 | mod=97.0 | std=21.619070985772257]\n",
            "N = 36 -> [s=9.583702697037076 | mod=97.0 | std=21.519266915039204]\n",
            "N = 37 -> [s=9.584270033435704 | mod=96.0 | std=21.41899780180067]\n",
            "N = 38 -> [s=9.584837369834332 | mod=96.0 | std=21.318257084161054]\n",
            "N = 39 -> [s=9.58540470623296 | mod=96.0 | std=21.217038044440226]\n",
            "N = 40 -> [s=9.585972042631589 | mod=96.0 | std=21.11533380394601]\n",
            "N = 41 -> [s=9.586539379030217 | mod=96.0 | std=21.013137317518918]\n",
            "N = 42 -> [s=9.58707888446406 | mod=96.0 | std=20.915229104904355]\n",
            "N = 43 -> [s=9.587618389897898 | mod=96.0 | std=20.816860404402256]\n",
            "N = 44 -> [s=9.58815789533174 | mod=96.0 | std=20.71802465685623]\n",
            "N = 45 -> [s=9.588697400765582 | mod=96.0 | std=20.618715145901668]\n",
            "N = 46 -> [s=9.589236906199424 | mod=96.0 | std=20.518924992639526]\n",
            "N = 47 -> [s=9.589776411633267 | mod=95.0 | std=20.418647150075813]\n",
            "N = 48 -> [s=9.590315917067105 | mod=95.0 | std=20.317874397314085]\n",
            "N = 49 -> [s=9.590855422500947 | mod=95.0 | std=20.216599333487405]\n",
            "N = 50 -> [s=9.59139492793479 | mod=95.0 | std=20.114814371415303]\n",
            "N = 51 -> [s=9.59193443336863 | mod=95.0 | std=20.0125117309704]\n",
            "N = 52 -> [s=9.592446326263545 | mod=95.0 | std=19.91471176494531]\n",
            "N = 53 -> [s=9.592958219158461 | mod=95.0 | std=19.816429132905714]\n",
            "N = 54 -> [s=9.593470112053375 | mod=95.0 | std=19.717656617308702]\n",
            "N = 55 -> [s=9.593982004948291 | mod=95.0 | std=19.618386818918648]\n",
            "N = 56 -> [s=9.594493897843206 | mod=95.0 | std=19.518612150338562]\n",
            "N = 57 -> [s=9.59500579073812 | mod=94.0 | std=19.418324829242287]\n",
            "N = 58 -> [s=9.595517683633037 | mod=94.0 | std=19.31751687129044]\n",
            "N = 59 -> [s=9.596029576527952 | mod=94.0 | std=19.21618008271191]\n",
            "N = 60 -> [s=9.596541469422867 | mod=94.0 | std=19.11430605253137]\n",
            "N = 61 -> [s=9.597053362317782 | mod=94.0 | std=19.011886144421876]\n",
            "N = 62 -> [s=9.597537847286107 | mod=94.0 | std=18.914205877593037]\n",
            "N = 63 -> [s=9.59802233225443 | mod=94.0 | std=18.81601852655044]\n",
            "N = 64 -> [s=9.598506817222754 | mod=94.0 | std=18.717316111104278]\n",
            "N = 65 -> [s=9.598991302191079 | mod=94.0 | std=18.618090439529993]\n",
            "N = 66 -> [s=9.599475787159403 | mod=94.0 | std=18.518333100633882]\n",
            "N = 67 -> [s=9.599960272127728 | mod=93.0 | std=18.41803545543191]\n",
            "N = 68 -> [s=9.600444757096051 | mod=93.0 | std=18.317188628418428]\n",
            "N = 69 -> [s=9.600929242064376 | mod=93.0 | std=18.215783498399833]\n",
            "N = 70 -> [s=9.6014137270327 | mod=93.0 | std=18.113810688866383]\n",
            "N = 71 -> [s=9.601898212001023 | mod=93.0 | std=18.01126055787336]\n",
            "N = 72 -> [s=9.602355480378218 | mod=93.0 | std=17.913713361779852]\n",
            "N = 73 -> [s=9.602812748755415 | mod=93.0 | std=17.815632066598578]\n",
            "N = 74 -> [s=9.60327001713261 | mod=93.0 | std=17.717007802019534]\n",
            "N = 75 -> [s=9.603727285509805 | mod=93.0 | std=17.617831449449916]\n",
            "N = 76 -> [s=9.604184553887 | mod=93.0 | std=17.51809363217448]\n",
            "N = 77 -> [s=9.604641822264195 | mod=92.0 | std=17.417784705008774]\n",
            "N = 78 -> [s=9.60509909064139 | mod=92.0 | std=17.31689474341295]\n",
            "N = 79 -> [s=9.605556359018586 | mod=92.0 | std=17.215413532031363]\n",
            "N = 80 -> [s=9.60601362739578 | mod=92.0 | std=17.113330552620496]\n",
            "N = 81 -> [s=9.606470895772976 | mod=92.0 | std=17.010634971324837]\n",
            "N = 82 -> [s=9.606901126109118 | mod=92.0 | std=16.9132365904624]\n",
            "N = 83 -> [s=9.607331356445263 | mod=92.0 | std=16.81527406265663]\n",
            "N = 84 -> [s=9.607761586781406 | mod=92.0 | std=16.716737469959543]\n",
            "N = 85 -> [s=9.608191817117548 | mod=92.0 | std=16.6176166003686]\n",
            "N = 86 -> [s=9.608622047453691 | mod=92.0 | std=16.517900935474298]\n",
            "N = 87 -> [s=9.609052277789836 | mod=91.0 | std=16.41757963743253]\n",
            "N = 88 -> [s=9.609482508125977 | mod=91.0 | std=16.316641535216]\n",
            "N = 89 -> [s=9.609912738462121 | mod=91.0 | std=16.215075110095313]\n",
            "N = 90 -> [s=9.610342968798264 | mod=91.0 | std=16.1128684802964]\n",
            "N = 91 -> [s=9.610773199134407 | mod=91.0 | std=16.010009384776318]\n",
            "N = 92 -> [s=9.611176557643905 | mod=91.0 | std=15.91277853333017]\n",
            "N = 93 -> [s=9.611579916153405 | mod=91.0 | std=15.814949914590347]\n",
            "N = 94 -> [s=9.611983274662904 | mod=91.0 | std=15.716512366017755]\n",
            "N = 95 -> [s=9.612386633172402 | mod=91.0 | std=15.61745437327661]\n",
            "N = 96 -> [s=9.6127899916819 | mod=91.0 | std=15.517764054513925]\n",
            "N = 97 -> [s=9.6131933501914 | mod=90.0 | std=15.417429143724066]\n",
            "N = 98 -> [s=9.613596708700898 | mod=90.0 | std=15.316436973132488]\n",
            "N = 99 -> [s=9.614000067210396 | mod=90.0 | std=15.21477445452701]\n",
            "N = 100 -> [s=9.614403425719896 | mod=90.0 | std=15.112428059458725]\n",
            "N = 101 -> [s=9.614806784229394 | mod=90.0 | std=15.009383798227798]\n",
            "N = 102 -> [s=9.615183425201952 | mod=90.0 | std=14.91234295694617]\n",
            "N = 103 -> [s=9.61556006617451 | mod=90.0 | std=14.814666480507107]\n",
            "N = 104 -> [s=9.615936707147066 | mod=90.0 | std=14.716341712251033]\n",
            "N = 105 -> [s=9.616313348119624 | mod=90.0 | std=14.617355569829261]\n",
            "N = 106 -> [s=9.616689989092182 | mod=90.0 | std=14.517694524885739]\n",
            "N = 107 -> [s=9.617066630064738 | mod=89.0 | std=14.417344581474643]\n",
            "N = 108 -> [s=9.617443271037295 | mod=89.0 | std=14.316291253116328]\n",
            "N = 109 -> [s=9.617819912009853 | mod=89.0 | std=14.214519538385176]\n",
            "N = 110 -> [s=9.618196552982411 | mod=89.0 | std=14.11201389491283]\n",
            "N = 111 -> [s=9.618573193954969 | mod=89.0 | std=14.008758211679279]\n",
            "N = 112 -> [s=9.618923260130487 | mod=89.0 | std=13.911934711220491]\n",
            "N = 113 -> [s=9.619273326306004 | mod=89.0 | std=13.814432604534705]\n",
            "N = 114 -> [s=9.619623392481524 | mod=89.0 | std=13.716237419977883]\n",
            "N = 115 -> [s=9.619973458657041 | mod=89.0 | std=13.617334164114924]\n",
            "N = 116 -> [s=9.620323524832559 | mod=89.0 | std=13.517707294994274]\n",
            "N = 117 -> [s=9.620673591008078 | mod=88.0 | std=13.417340693636403]\n",
            "N = 118 -> [s=9.621023657183596 | mod=88.0 | std=13.31621763358805]\n",
            "N = 119 -> [s=9.621373723359113 | mod=88.0 | std=13.21432074837944]\n",
            "N = 120 -> [s=9.62172378953463 | mod=88.0 | std=13.111631996705112]\n",
            "N = 121 -> [s=9.622073855710148 | mod=88.0 | std=13.008132625130758]\n",
            "N = 122 -> [s=9.622397478619973 | mod=88.0 | std=12.911560149023522]\n",
            "N = 123 -> [s=9.622721101529795 | mod=88.0 | std=12.814259891648577]\n",
            "N = 124 -> [s=9.623044724439618 | mod=88.0 | std=12.716215146794838]\n",
            "N = 125 -> [s=9.623368347349441 | mod=88.0 | std=12.617408559146982]\n",
            "N = 126 -> [s=9.623691970259264 | mod=88.0 | std=12.517822088418441]\n",
            "N = 127 -> [s=9.624015593169087 | mod=87.0 | std=12.417436970895311]\n",
            "N = 128 -> [s=9.624339216078909 | mod=87.0 | std=12.316233678159033]\n",
            "N = 129 -> [s=9.624662838988733 | mod=87.0 | std=12.214191872730666]\n",
            "N = 130 -> [s=9.624986461898555 | mod=87.0 | std=12.111290360351408]\n",
            "N = 131 -> [s=9.625310084808378 | mod=87.0 | std=12.007507038582238]\n",
            "N = 132 -> [s=9.625607385085013 | mod=87.0 | std=11.911227757177436]\n",
            "N = 133 -> [s=9.625904685361649 | mod=87.0 | std=11.81416387583592]\n",
            "N = 134 -> [s=9.626201985638284 | mod=87.0 | std=11.716295894473584]\n",
            "N = 135 -> [s=9.626499285914921 | mod=87.0 | std=11.617603491624715]\n",
            "N = 136 -> [s=9.626796586191556 | mod=87.0 | std=11.518065475172596]\n",
            "N = 137 -> [s=9.627093886468192 | mod=86.0 | std=11.417659729214002]\n",
            "N = 138 -> [s=9.627391186744827 | mod=86.0 | std=11.316363156680124]\n",
            "N = 139 -> [s=9.627688487021462 | mod=86.0 | std=11.2141516172923]\n",
            "N = 140 -> [s=9.627985787298098 | mod=86.0 | std=11.11099986038033]\n",
            "N = 141 -> [s=9.628283087574736 | mod=86.0 | std=11.006881452033719]\n",
            "N = 142 -> [s=9.628554175231953 | mod=86.0 | std=10.91094913441389]\n",
            "N = 143 -> [s=9.628825262889169 | mod=86.0 | std=10.81416583599542]\n",
            "N = 144 -> [s=9.629096350546387 | mod=86.0 | std=10.716508500582352]\n",
            "N = 145 -> [s=9.629367438203605 | mod=86.0 | std=10.61795301165423]\n",
            "N = 146 -> [s=9.629638525860823 | mod=86.0 | std=10.518474122815554]\n",
            "N = 147 -> [s=9.629909613518041 | mod=85.0 | std=10.418045382267431]\n",
            "N = 148 -> [s=9.630180701175258 | mod=85.0 | std=10.316639050661172]\n",
            "N = 149 -> [s=9.630451788832477 | mod=85.0 | std=10.214226011610979]\n",
            "N = 150 -> [s=9.630722876489694 | mod=85.0 | std=10.110775674047646]\n",
            "N = 151 -> [s=9.63099396414691 | mod=85.0 | std=10.0062558654852]\n",
            "N = 152 -> [s=9.631238938831899 | mod=85.0 | std=9.910740561284578]\n",
            "N = 153 -> [s=9.631483913516885 | mod=85.0 | std=9.814295721070655]\n",
            "N = 154 -> [s=9.631728888201872 | mod=85.0 | std=9.716893666607668]\n",
            "N = 155 -> [s=9.63197386288686 | mod=85.0 | std=9.618505318171563]\n",
            "N = 156 -> [s=9.632218837571846 | mod=85.0 | std=9.519100093140581]\n",
            "N = 157 -> [s=9.632463812256834 | mod=84.0 | std=9.418645794951813]\n",
            "N = 158 -> [s=9.63270878694182 | mod=84.0 | std=9.317108491280859]\n",
            "N = 159 -> [s=9.632953761626807 | mod=84.0 | std=9.214452380138077]\n",
            "N = 160 -> [s=9.633198736311794 | mod=84.0 | std=9.110639642383333]\n",
            "N = 161 -> [s=9.63344371099678 | mod=84.0 | std=9.00563027893668]\n",
            "N = 162 -> [s=9.633662662215851 | mod=84.0 | std=8.910625626819177]\n",
            "N = 163 -> [s=9.633881613434925 | mod=84.0 | std=8.814597064060965]\n",
            "N = 164 -> [s=9.634100564653998 | mod=84.0 | std=8.717510753774711]\n",
            "N = 165 -> [s=9.63431951587307 | mod=84.0 | std=8.619330953305091]\n",
            "N = 166 -> [s=9.634538467092142 | mod=84.0 | std=8.520019860483236]\n",
            "N = 167 -> [s=9.634757418311214 | mod=83.0 | std=8.419537443556761]\n",
            "N = 168 -> [s=9.634976369530285 | mod=83.0 | std=8.317841252625579]\n",
            "N = 169 -> [s=9.635195320749359 | mod=83.0 | std=8.214886210064348]\n",
            "N = 170 -> [s=9.63541427196843 | mod=83.0 | std=8.110624376996565]\n",
            "N = 171 -> [s=9.635633223187503 | mod=83.0 | std=8.005004692388159]\n",
            "N = 172 -> [s=9.635826230506675 | mod=83.0 | std=7.910639846338164]\n",
            "N = 173 -> [s=9.636019237825849 | mod=83.0 | std=7.815135663044484]\n",
            "N = 174 -> [s=9.636212245145021 | mod=83.0 | std=7.7184498498795975]\n",
            "N = 175 -> [s=9.636405252464193 | mod=83.0 | std=7.620537431075516]\n",
            "N = 176 -> [s=9.636598259783367 | mod=83.0 | std=7.521350503183565]\n",
            "N = 177 -> [s=9.63679126710254 | mod=82.0 | std=7.420837961110344]\n",
            "N = 178 -> [s=9.636984274421712 | mod=82.0 | std=7.318945190283431]\n",
            "N = 179 -> [s=9.637177281740886 | mod=82.0 | std=7.215613719683836]\n",
            "N = 180 -> [s=9.637370289060058 | mod=82.0 | std=7.110780829487452]\n",
            "N = 181 -> [s=9.63756329637923 | mod=82.0 | std=7.004379105839639]\n",
            "N = 182 -> [s=9.637730429600804 | mod=82.0 | std=6.910839285103559]\n",
            "N = 183 -> [s=9.637897562822374 | mod=82.0 | std=6.816015888386589]\n",
            "N = 184 -> [s=9.638064696043948 | mod=82.0 | std=6.719854578556458]\n",
            "N = 185 -> [s=9.638231829265518 | mod=82.0 | std=6.622297073006763]\n",
            "N = 186 -> [s=9.638398962487091 | mod=82.0 | std=6.523280730534422]\n",
            "N = 187 -> [s=9.638566095708663 | mod=81.0 | std=6.4227380808787045]\n",
            "N = 188 -> [s=9.638733228930235 | mod=81.0 | std=6.320596286884428]\n",
            "N = 189 -> [s=9.638900362151807 | mod=81.0 | std=6.216776527106711]\n",
            "N = 190 -> [s=9.639067495373379 | mod=81.0 | std=6.1111932839824945]\n",
            "N = 191 -> [s=9.63923462859495 | mod=81.0 | std=6.003753519291119]\n",
            "N = 192 -> [s=9.639375947911091 | mod=81.0 | std=5.911317924075762]\n",
            "N = 193 -> [s=9.639517267227232 | mod=81.0 | std=5.817413762025033]\n",
            "N = 194 -> [s=9.639658586543373 | mod=81.0 | std=5.721968730926195]\n",
            "N = 195 -> [s=9.639799905859515 | mod=81.0 | std=5.624904393569369]\n",
            "N = 196 -> [s=9.639941225175656 | mod=81.0 | std=5.52613542323158]\n",
            "N = 197 -> [s=9.640082544491797 | mod=80.0 | std=5.425568725488024]\n",
            "N = 198 -> [s=9.640223863807938 | mod=80.0 | std=5.323102410633541]\n",
            "N = 199 -> [s=9.640365183124079 | mod=80.0 | std=5.218624584427538]\n",
            "N = 200 -> [s=9.640506502440221 | mod=80.0 | std=5.112011916289942]\n",
            "N = 201 -> [s=9.64064782175636 | mod=80.0 | std=5.0031279327426]\n",
            "N = 202 -> [s=9.640763377880571 | mod=80.0 | std=4.912246197349968]\n",
            "N = 203 -> [s=9.640878934004778 | mod=80.0 | std=4.8196510553534075]\n",
            "N = 204 -> [s=9.640994490128987 | mod=80.0 | std=4.725241780836108]\n",
            "N = 205 -> [s=9.641110046253196 | mod=80.0 | std=4.628907374246021]\n",
            "N = 206 -> [s=9.641225602377403 | mod=80.0 | std=4.530525032635751]\n",
            "N = 207 -> [s=9.641341158501614 | mod=79.0 | std=4.4299583139493715]\n",
            "N = 208 -> [s=9.641456714625821 | mod=79.0 | std=4.327054917067629]\n",
            "N = 209 -> [s=9.641572270750032 | mod=79.0 | std=4.22164397448543]\n",
            "N = 210 -> [s=9.64168782687424 | mod=79.0 | std=4.113532720095845]\n",
            "N = 211 -> [s=9.641803382998448 | mod=79.0 | std=4.002502346194079]\n",
            "N = 212 -> [s=9.641893217275594 | mod=79.0 | std=3.913968438320653]\n",
            "N = 213 -> [s=9.641983051552744 | mod=79.0 | std=3.8233849977541254]\n",
            "N = 214 -> [s=9.64207288582989 | mod=79.0 | std=3.7306027322582094]\n",
            "N = 215 -> [s=9.642162720107038 | mod=79.0 | std=3.6354532937191637]\n",
            "N = 216 -> [s=9.642252554384186 | mod=79.0 | std=3.537745688386125]\n",
            "N = 217 -> [s=9.642342388661334 | mod=78.0 | std=3.437261767828531]\n",
            "N = 218 -> [s=9.642432222938481 | mod=78.0 | std=3.3337504953815635]\n",
            "N = 219 -> [s=9.64252205721563 | mod=78.0 | std=3.226920555318634]\n",
            "N = 220 -> [s=9.642611891492777 | mod=78.0 | std=3.1164306787122706]\n",
            "N = 221 -> [s=9.642701725769925 | mod=78.0 | std=3.0018767596455596]\n",
            "N = 222 -> [s=9.642765870265494 | mod=78.0 | std=2.917299829957891]\n",
            "N = 223 -> [s=9.642830014761063 | mod=78.0 | std=2.8301965507089]\n",
            "N = 224 -> [s=9.642894159256631 | mod=78.0 | std=2.740326026847311]\n",
            "N = 225 -> [s=9.6429583037522 | mod=78.0 | std=2.647406457495521]\n",
            "N = 226 -> [s=9.64302244824777 | mod=78.0 | std=2.5511046958055643]\n",
            "N = 227 -> [s=9.64308659274334 | mod=77.0 | std=2.4510221106170005]\n",
            "N = 228 -> [s=9.643150737238908 | mod=77.0 | std=2.3466750104148706]\n",
            "N = 229 -> [s=9.643214881734478 | mod=77.0 | std=2.2374668315480895]\n",
            "N = 230 -> [s=9.643279026230047 | mod=77.0 | std=2.122647413031675]\n",
            "N = 231 -> [s=9.643343170725615 | mod=77.0 | std=2.0012511730970397]\n",
            "N = 232 -> [s=9.64338164829461 | mod=77.0 | std=1.924741745919594]\n",
            "N = 233 -> [s=9.643420125863607 | mod=77.0 | std=1.8450624160577702]\n",
            "N = 234 -> [s=9.643458603432602 | mod=77.0 | std=1.7617831449449917]\n",
            "N = 235 -> [s=9.643497081001598 | mod=77.0 | std=1.674366859584719]\n",
            "N = 236 -> [s=9.643535558570594 | mod=77.0 | std=1.5821279692676329]\n",
            "N = 237 -> [s=9.643574036139588 | mod=76.0 | std=1.4841675922220687]\n",
            "N = 238 -> [s=9.643612513708586 | mod=76.0 | std=1.3792671867573671]\n",
            "N = 239 -> [s=9.643650991277582 | mod=76.0 | std=1.2657023754141061]\n",
            "N = 240 -> [s=9.643689468846576 | mod=76.0 | std=1.1408887035080328]\n",
            "N = 241 -> [s=9.643727946415572 | mod=76.0 | std=1.0006255865485199]\n",
            "N = 242 -> [s=9.643740770751489 | mod=76.0 | std=0.9492767815605797]\n",
            "N = 243 -> [s=9.643753595087404 | mod=76.0 | std=0.8949867326192359]\n",
            "N = 244 -> [s=9.643766419423319 | mod=76.0 | std=0.8371834297923595]\n",
            "N = 245 -> [s=9.643779243759234 | mod=75.0 | std=0.7750812464982892]\n",
            "N = 246 -> [s=9.643792068095149 | mod=75.0 | std=0.707549137677225]\n",
            "N = 247 -> [s=9.643804892431064 | mod=75.0 | std=0.6328511877070531]\n",
            "N = 248 -> [s=9.643817716766979 | mod=75.0 | std=0.5480652053694622]\n",
            "N = 249 -> [s=9.643830541102894 | mod=75.0 | std=0.44749336630961795]\n",
            "N = 250 -> [s=9.64384336543881 | mod=75.0 | std=0.31642559385352653]\n",
            "N = 251 -> [s=9.643856189774727 | mod=75.0 | std=0.0]\n"
          ]
        }
      ]
    },
    {
      "cell_type": "code",
      "source": [
        "plt.plot(N_list,s_list)"
      ],
      "metadata": {
        "colab": {
          "base_uri": "https://localhost:8080/",
          "height": 447
        },
        "id": "GirxyLW-Gtrl",
        "outputId": "2a2c6079-86c4-4ad7-81a0-cb6eba83ef19"
      },
      "execution_count": 9,
      "outputs": [
        {
          "output_type": "execute_result",
          "data": {
            "text/plain": [
              "[<matplotlib.lines.Line2D at 0x7b37d9e722c0>]"
            ]
          },
          "metadata": {},
          "execution_count": 9
        },
        {
          "output_type": "display_data",
          "data": {
            "text/plain": [
              "<Figure size 640x480 with 1 Axes>"
            ],
            "image/png": "[encoded data removed]"
          },
          "metadata": {}
        }
      ]
    },
    {
      "cell_type": "code",
      "source": [
        "plt.plot(N_list,std_list)"
      ],
      "metadata": {
        "colab": {
          "base_uri": "https://localhost:8080/",
          "height": 447
        },
        "id": "EQfvW9BtICm3",
        "outputId": "761edfd8-8862-4e47-a938-f66f2af4a41c"
      },
      "execution_count": 34,
      "outputs": [
        {
          "output_type": "execute_result",
          "data": {
            "text/plain": [
              "[<matplotlib.lines.Line2D at 0x7956eef94a90>]"
            ]
          },
          "metadata": {},
          "execution_count": 34
        },
        {
          "output_type": "display_data",
          "data": {
            "text/plain": [
              "<Figure size 640x480 with 1 Axes>"
            ],
            "image/png": "[encoded data removed]"
          },
          "metadata": {}
        }
      ]
    },
    {
      "cell_type": "code",
      "source": [
        "plt.plot(N_list,mod_list)"
      ],
      "metadata": {
        "colab": {
          "base_uri": "https://localhost:8080/",
          "height": 447
        },
        "id": "-kpMBZqlIIQS",
        "outputId": "640d8851-7290-4907-8b4c-fd63b6df4df1"
      },
      "execution_count": 35,
      "outputs": [
        {
          "output_type": "execute_result",
          "data": {
            "text/plain": [
              "[<matplotlib.lines.Line2D at 0x7956eef17d30>]"
            ]
          },
          "metadata": {},
          "execution_count": 35
        },
        {
          "output_type": "display_data",
          "data": {
            "text/plain": [
              "<Figure size 640x480 with 1 Axes>"
            ],
            "image/png": "[encoded data removed]"
          },
          "metadata": {}
        }
      ]
    },
    {
      "cell_type": "code",
      "source": [
        "new_img_list[0].sum()==new_img_list[-1].sum()"
      ],
      "metadata": {
        "colab": {
          "base_uri": "https://localhost:8080/"
        },
        "id": "RH2l_fsXIS5t",
        "outputId": "b245324e-ea1f-40c6-b2db-8776821dfd19"
      },
      "execution_count": 36,
      "outputs": [
        {
          "output_type": "execute_result",
          "data": {
            "text/plain": [
              "True"
            ]
          },
          "metadata": {},
          "execution_count": 36
        }
      ]
    },
    {
      "cell_type": "code",
      "source": [
        "!pip3 install animateplot"
      ],
      "metadata": {
        "colab": {
          "base_uri": "https://localhost:8080/"
        },
        "id": "zTBE5EFkJW1y",
        "outputId": "3f451a4c-6d30-4133-c650-127e3a831113"
      },
      "execution_count": 40,
      "outputs": [
        {
          "output_type": "stream",
          "name": "stdout",
          "text": [
            "Collecting animateplot\n",
            "  Downloading animateplot-0.4.1.2-py3-none-any.whl (18 kB)\n",
            "Requirement already satisfied: imageio in /usr/local/lib/python3.10/dist-packages (from animateplot) (2.31.6)\n",
            "Requirement already satisfied: matplotlib in /usr/local/lib/python3.10/dist-packages (from animateplot) (3.7.1)\n",
            "Requirement already satisfied: moviepy in /usr/local/lib/python3.10/dist-packages (from animateplot) (1.0.3)\n",
            "Requirement already satisfied: numpy in /usr/local/lib/python3.10/dist-packages (from animateplot) (1.25.2)\n",
            "Requirement already satisfied: opencv-python in /usr/local/lib/python3.10/dist-packages (from animateplot) (4.8.0.76)\n",
            "Requirement already satisfied: pillow<10.1.0,>=8.3.2 in /usr/local/lib/python3.10/dist-packages (from imageio->animateplot) (9.4.0)\n",
            "Requirement already satisfied: contourpy>=1.0.1 in /usr/local/lib/python3.10/dist-packages (from matplotlib->animateplot) (1.2.0)\n",
            "Requirement already satisfied: cycler>=0.10 in /usr/local/lib/python3.10/dist-packages (from matplotlib->animateplot) (0.12.1)\n",
            "Requirement already satisfied: fonttools>=4.22.0 in /usr/local/lib/python3.10/dist-packages (from matplotlib->animateplot) (4.50.0)\n",
            "Requirement already satisfied: kiwisolver>=1.0.1 in /usr/local/lib/python3.10/dist-packages (from matplotlib->animateplot) (1.4.5)\n",
            "Requirement already satisfied: packaging>=20.0 in /usr/local/lib/python3.10/dist-packages (from matplotlib->animateplot) (24.0)\n",
            "Requirement already satisfied: pyparsing>=2.3.1 in /usr/local/lib/python3.10/dist-packages (from matplotlib->animateplot) (3.1.2)\n",
            "Requirement already satisfied: python-dateutil>=2.7 in /usr/local/lib/python3.10/dist-packages (from matplotlib->animateplot) (2.8.2)\n",
            "Requirement already satisfied: decorator<5.0,>=4.0.2 in /usr/local/lib/python3.10/dist-packages (from moviepy->animateplot) (4.4.2)\n",
            "Requirement already satisfied: tqdm<5.0,>=4.11.2 in /usr/local/lib/python3.10/dist-packages (from moviepy->animateplot) (4.66.2)\n",
            "Requirement already satisfied: requests<3.0,>=2.8.1 in /usr/local/lib/python3.10/dist-packages (from moviepy->animateplot) (2.31.0)\n",
            "Requirement already satisfied: proglog<=1.0.0 in /usr/local/lib/python3.10/dist-packages (from moviepy->animateplot) (0.1.10)\n",
            "Requirement already satisfied: imageio-ffmpeg>=0.2.0 in /usr/local/lib/python3.10/dist-packages (from moviepy->animateplot) (0.4.9)\n",
            "Requirement already satisfied: setuptools in /usr/local/lib/python3.10/dist-packages (from imageio-ffmpeg>=0.2.0->moviepy->animateplot) (67.7.2)\n",
            "Requirement already satisfied: six>=1.5 in /usr/local/lib/python3.10/dist-packages (from python-dateutil>=2.7->matplotlib->animateplot) (1.16.0)\n",
            "Requirement already satisfied: charset-normalizer<4,>=2 in /usr/local/lib/python3.10/dist-packages (from requests<3.0,>=2.8.1->moviepy->animateplot) (3.3.2)\n",
            "Requirement already satisfied: idna<4,>=2.5 in /usr/local/lib/python3.10/dist-packages (from requests<3.0,>=2.8.1->moviepy->animateplot) (3.6)\n",
            "Requirement already satisfied: urllib3<3,>=1.21.1 in /usr/local/lib/python3.10/dist-packages (from requests<3.0,>=2.8.1->moviepy->animateplot) (2.0.7)\n",
            "Requirement already satisfied: certifi>=2017.4.17 in /usr/local/lib/python3.10/dist-packages (from requests<3.0,>=2.8.1->moviepy->animateplot) (2024.2.2)\n",
            "Installing collected packages: animateplot\n",
            "Successfully installed animateplot-0.4.1.2\n"
          ]
        }
      ]
    },
    {
      "cell_type": "code",
      "source": [
        "from mpl_toolkits.axes_grid1 import make_axes_locatable\n",
        "\n",
        "# Limits for the extent\n",
        "x_start = 0\n",
        "x_end = 40\n",
        "y_start = 0\n",
        "y_end = 20\n",
        "\n",
        "extent = [x_start, x_end, y_start, y_end]\n",
        "size = 40\n",
        "\n",
        "\n",
        "base_img = new_img_list[0]\n",
        "norm = plt.Normalize(vmin=base_img.min(), vmax=base_img.max())\n",
        "def plot_main(i,plt):\n",
        "  img_ = np.copy(new_img_list[i])\n",
        "  fig = plt.figure(figsize=(16, 12))\n",
        "  ax = fig.add_subplot(111)\n",
        "  cx = plt.imshow(plt.cm.rainbow(norm(img_)),extent=extent,origin='lower', interpolation='None')\n",
        "  ax = plt.gca()\n",
        "  ax.set_xticks(np.arange(0, 40, 1))\n",
        "  ax.set_yticks(np.arange(0, 20, 1))\n",
        "  ax.set_xticklabels(np.arange(0, 40, 1))\n",
        "  ax.set_yticklabels(np.arange(0, 20, 1))\n",
        "  plt.xlabel(\"x\")\n",
        "  plt.ylabel(\"y\")\n",
        "  plt.grid(c='black',ls='--',lw=1)\n",
        "\n",
        "  divider = make_axes_locatable(ax)\n",
        "  cax = divider.append_axes(\"right\", size=\"5%\", pad=0.05)\n",
        "\n",
        "  v1 = np.linspace(0.45,1.,10)\n",
        "  cbr = plt.colorbar(cx,cax=cax)\n",
        "  ticks = cbr.get_ticks()\n",
        "  cbr.set_label('Energia em Joules',fontweight='bold')\n",
        "  cbr.set_ticklabels([f\"{int(j*100)} Joules\" for j in ticks])\n",
        "\n",
        "    # Add the text\n",
        "  jump_x = (x_end - x_start) / (2.0 * size)\n",
        "  jump_y = (y_end - y_start) / (2.0 * size)\n",
        "  x_positions = np.linspace(start=x_start, stop=x_end, num=size, endpoint=False)\n",
        "  y_positions = np.linspace(start=y_start, stop=y_end, num=20, endpoint=False)\n",
        "\n",
        "  for y_index, y in enumerate(y_positions):\n",
        "      for x_index, x in enumerate(x_positions):\n",
        "          label = img_[y_index][x_index]\n",
        "          text_x = x + jump_x\n",
        "          text_y = y + jump_y\n",
        "          ax.text(text_x, text_y, label,fontweight='bold',size=7, color='black', ha='center', va='center')\n",
        "\n",
        "\n",
        "  return plt\n",
        "\n",
        "\n",
        "#plot_main(250,plt)\n",
        "animate = ap(N_list,plot_main)\n",
        "animate.render_cache()\n",
        "animate.render_mp4('energy_grade.mp4',fps=6)"
      ],
      "metadata": {
        "colab": {
          "base_uri": "https://localhost:8080/",
          "height": 1000,
          "referenced_widgets": [
            "614f4485667045d289b29da0a1f3608a",
            "729dc90e69ec442596119f19fff3aad1"
          ]
        },
        "id": "U-uX_4ocJLvE",
        "outputId": "f4537f45-fd53-4ceb-b059-6f8d7cb1fc11"
      },
      "execution_count": 59,
      "outputs": [
        {
          "output_type": "stream",
          "name": "stderr",
          "text": [
            "WARNING:py.warnings:<ipython-input-59-fa207e6f4f79>:36: UserWarning: FixedFormatter should only be used together with FixedLocator\n",
            "  cbr.set_ticklabels([f\"{int(j*100)} Joules\" for j in ticks])\n",
            "\n"
          ]
        },
        {
          "output_type": "stream",
          "name": "stdout",
          "text": []
        },
        {
          "output_type": "stream",
          "name": "stderr",
          "text": [
            "WARNING:py.warnings:<ipython-input-59-fa207e6f4f79>:17: RuntimeWarning: More than 20 figures have been opened. Figures created through the pyplot interface (`matplotlib.pyplot.figure`) are retained until explicitly closed and may consume too much memory. (To control this warning, see the rcParam `figure.max_open_warning`). Consider using `matplotlib.pyplot.close()`.\n",
            "  fig = plt.figure(figsize=(16, 12))\n",
            "\n"
          ]
        },
        {
          "output_type": "stream",
          "name": "stdout",
          "text": [
            "ended saved cache images! \n",
            "[251 images saved in 513.4s | speed: 0.5/img/s | ping: 2045.5ms]\n",
            "Moviepy - Building video energy_grade.mp4.\n",
            "Moviepy - Writing video energy_grade.mp4\n",
            "\n"
          ]
        },
        {
          "output_type": "stream",
          "name": "stderr",
          "text": []
        },
        {
          "output_type": "stream",
          "name": "stdout",
          "text": [
            "Moviepy - Done !\n",
            "Moviepy - video ready energy_grade.mp4\n",
            "playing energy_grade.mp4\n"
          ]
        },
        {
          "output_type": "display_data",
          "data": {
            "text/plain": [
              "Video(value=b'\\x00\\x00\\x00 ftypisom\\x00\\x00\\x02\\x00isomiso2avc1mp41\\x00\\x00\\x00\\x08free\\x00H\\x1e\\x93mdat\\x00\\x…"
            ],
            "application/vnd.jupyter.widget-view+json": {
              "version_major": 2,
              "version_minor": 0,
              "model_id": "614f4485667045d289b29da0a1f3608a"
            }
          },
          "metadata": {}
        },
        {
          "output_type": "display_data",
          "data": {
            "text/plain": [
              "<Figure size 1600x1200 with 0 Axes>"
            ]
          },
          "metadata": {}
        },
        {
          "output_type": "display_data",
          "data": {
            "text/plain": [
              "<Figure size 1600x1200 with 0 Axes>"
            ]
          },
          "metadata": {}
        },
        {
          "output_type": "display_data",
          "data": {
            "text/plain": [
              "<Figure size 1600x1200 with 0 Axes>"
            ]
          },
          "metadata": {}
        },
        {
          "output_type": "display_data",
          "data": {
            "text/plain": [
              "<Figure size 1600x1200 with 0 Axes>"
            ]
          },
          "metadata": {}
        },
        {
          "output_type": "display_data",
          "data": {
            "text/plain": [
              "<Figure size 1600x1200 with 0 Axes>"
            ]
          },
          "metadata": {}
        },
        {
          "output_type": "display_data",
          "data": {
            "text/plain": [
              "<Figure size 1600x1200 with 0 Axes>"
            ]
          },
          "metadata": {}
        },
        {
          "output_type": "display_data",
          "data": {
            "text/plain": [
              "<Figure size 1600x1200 with 0 Axes>"
            ]
          },
          "metadata": {}
        },
        {
          "output_type": "display_data",
          "data": {
            "text/plain": [
              "<Figure size 1600x1200 with 0 Axes>"
            ]
          },
          "metadata": {}
        },
        {
          "output_type": "display_data",
          "data": {
            "text/plain": [
              "<Figure size 1600x1200 with 0 Axes>"
            ]
          },
          "metadata": {}
        },
        {
          "output_type": "display_data",
          "data": {
            "text/plain": [
              "<Figure size 1600x1200 with 0 Axes>"
            ]
          },
          "metadata": {}
        },
        {
          "output_type": "display_data",
          "data": {
            "text/plain": [
              "<Figure size 1600x1200 with 0 Axes>"
            ]
          },
          "metadata": {}
        },
        {
          "output_type": "display_data",
          "data": {
            "text/plain": [
              "<Figure size 1600x1200 with 0 Axes>"
            ]
          },
          "metadata": {}
        },
        {
          "output_type": "display_data",
          "data": {
            "text/plain": [
              "<Figure size 1600x1200 with 0 Axes>"
            ]
          },
          "metadata": {}
        },
        {
          "output_type": "display_data",
          "data": {
            "text/plain": [
              "<Figure size 1600x1200 with 0 Axes>"
            ]
          },
          "metadata": {}
        },
        {
          "output_type": "display_data",
          "data": {
            "text/plain": [
              "<Figure size 1600x1200 with 0 Axes>"
            ]
          },
          "metadata": {}
        },
        {
          "output_type": "display_data",
          "data": {
            "text/plain": [
              "<Figure size 1600x1200 with 0 Axes>"
            ]
          },
          "metadata": {}
        },
        {
          "output_type": "display_data",
          "data": {
            "text/plain": [
              "<Figure size 1600x1200 with 0 Axes>"
            ]
          },
          "metadata": {}
        },
        {
          "output_type": "display_data",
          "data": {
            "text/plain": [
              "<Figure size 1600x1200 with 0 Axes>"
            ]
          },
          "metadata": {}
        },
        {
          "output_type": "display_data",
          "data": {
            "text/plain": [
              "<Figure size 1600x1200 with 0 Axes>"
            ]
          },
          "metadata": {}
        },
        {
          "output_type": "display_data",
          "data": {
            "text/plain": [
              "<Figure size 1600x1200 with 0 Axes>"
            ]
          },
          "metadata": {}
        },
        {
          "output_type": "display_data",
          "data": {
            "text/plain": [
              "<Figure size 1600x1200 with 0 Axes>"
            ]
          },
          "metadata": {}
        },
        {
          "output_type": "display_data",
          "data": {
            "text/plain": [
              "<Figure size 1600x1200 with 0 Axes>"
            ]
          },
          "metadata": {}
        },
        {
          "output_type": "display_data",
          "data": {
            "text/plain": [
              "<Figure size 1600x1200 with 0 Axes>"
            ]
          },
          "metadata": {}
        },
        {
          "output_type": "display_data",
          "data": {
            "text/plain": [
              "<Figure size 1600x1200 with 0 Axes>"
            ]
          },
          "metadata": {}
        },
        {
          "output_type": "display_data",
          "data": {
            "text/plain": [
              "<Figure size 1600x1200 with 0 Axes>"
            ]
          },
          "metadata": {}
        },
        {
          "output_type": "display_data",
          "data": {
            "text/plain": [
              "<Figure size 1600x1200 with 0 Axes>"
            ]
          },
          "metadata": {}
        },
        {
          "output_type": "display_data",
          "data": {
            "text/plain": [
              "<Figure size 1600x1200 with 0 Axes>"
            ]
          },
          "metadata": {}
        },
        {
          "output_type": "display_data",
          "data": {
            "text/plain": [
              "<Figure size 1600x1200 with 0 Axes>"
            ]
          },
          "metadata": {}
        },
        {
          "output_type": "display_data",
          "data": {
            "text/plain": [
              "<Figure size 1600x1200 with 0 Axes>"
            ]
          },
          "metadata": {}
        },
        {
          "output_type": "display_data",
          "data": {
            "text/plain": [
              "<Figure size 1600x1200 with 0 Axes>"
            ]
          },
          "metadata": {}
        },
        {
          "output_type": "display_data",
          "data": {
            "text/plain": [
              "<Figure size 1600x1200 with 0 Axes>"
            ]
          },
          "metadata": {}
        },
        {
          "output_type": "display_data",
          "data": {
            "text/plain": [
              "<Figure size 1600x1200 with 0 Axes>"
            ]
          },
          "metadata": {}
        },
        {
          "output_type": "display_data",
          "data": {
            "text/plain": [
              "<Figure size 1600x1200 with 0 Axes>"
            ]
          },
          "metadata": {}
        },
        {
          "output_type": "display_data",
          "data": {
            "text/plain": [
              "<Figure size 1600x1200 with 0 Axes>"
            ]
          },
          "metadata": {}
        },
        {
          "output_type": "display_data",
          "data": {
            "text/plain": [
              "<Figure size 1600x1200 with 0 Axes>"
            ]
          },
          "metadata": {}
        },
        {
          "output_type": "display_data",
          "data": {
            "text/plain": [
              "<Figure size 1600x1200 with 0 Axes>"
            ]
          },
          "metadata": {}
        },
        {
          "output_type": "display_data",
          "data": {
            "text/plain": [
              "<Figure size 1600x1200 with 0 Axes>"
            ]
          },
          "metadata": {}
        },
        {
          "output_type": "display_data",
          "data": {
            "text/plain": [
              "<Figure size 1600x1200 with 0 Axes>"
            ]
          },
          "metadata": {}
        },
        {
          "output_type": "display_data",
          "data": {
            "text/plain": [
              "<Figure size 1600x1200 with 0 Axes>"
            ]
          },
          "metadata": {}
        },
        {
          "output_type": "display_data",
          "data": {
            "text/plain": [
              "<Figure size 1600x1200 with 0 Axes>"
            ]
          },
          "metadata": {}
        },
        {
          "output_type": "display_data",
          "data": {
            "text/plain": [
              "<Figure size 1600x1200 with 0 Axes>"
            ]
          },
          "metadata": {}
        },
        {
          "output_type": "display_data",
          "data": {
            "text/plain": [
              "<Figure size 1600x1200 with 0 Axes>"
            ]
          },
          "metadata": {}
        },
        {
          "output_type": "display_data",
          "data": {
            "text/plain": [
              "<Figure size 1600x1200 with 0 Axes>"
            ]
          },
          "metadata": {}
        },
        {
          "output_type": "display_data",
          "data": {
            "text/plain": [
              "<Figure size 1600x1200 with 0 Axes>"
            ]
          },
          "metadata": {}
        },
        {
          "output_type": "display_data",
          "data": {
            "text/plain": [
              "<Figure size 1600x1200 with 0 Axes>"
            ]
          },
          "metadata": {}
        },
        {
          "output_type": "display_data",
          "data": {
            "text/plain": [
              "<Figure size 1600x1200 with 0 Axes>"
            ]
          },
          "metadata": {}
        },
        {
          "output_type": "display_data",
          "data": {
            "text/plain": [
              "<Figure size 1600x1200 with 0 Axes>"
            ]
          },
          "metadata": {}
        },
        {
          "output_type": "display_data",
          "data": {
            "text/plain": [
              "<Figure size 1600x1200 with 0 Axes>"
            ]
          },
          "metadata": {}
        },
        {
          "output_type": "display_data",
          "data": {
            "text/plain": [
              "<Figure size 1600x1200 with 0 Axes>"
            ]
          },
          "metadata": {}
        },
        {
          "output_type": "display_data",
          "data": {
            "text/plain": [
              "<Figure size 1600x1200 with 0 Axes>"
            ]
          },
          "metadata": {}
        },
        {
          "output_type": "display_data",
          "data": {
            "text/plain": [
              "<Figure size 1600x1200 with 0 Axes>"
            ]
          },
          "metadata": {}
        },
        {
          "output_type": "display_data",
          "data": {
            "text/plain": [
              "<Figure size 1600x1200 with 0 Axes>"
            ]
          },
          "metadata": {}
        },
        {
          "output_type": "display_data",
          "data": {
            "text/plain": [
              "<Figure size 1600x1200 with 0 Axes>"
            ]
          },
          "metadata": {}
        },
        {
          "output_type": "display_data",
          "data": {
            "text/plain": [
              "<Figure size 1600x1200 with 0 Axes>"
            ]
          },
          "metadata": {}
        },
        {
          "output_type": "display_data",
          "data": {
            "text/plain": [
              "<Figure size 1600x1200 with 0 Axes>"
            ]
          },
          "metadata": {}
        },
        {
          "output_type": "display_data",
          "data": {
            "text/plain": [
              "<Figure size 1600x1200 with 0 Axes>"
            ]
          },
          "metadata": {}
        },
        {
          "output_type": "display_data",
          "data": {
            "text/plain": [
              "<Figure size 1600x1200 with 0 Axes>"
            ]
          },
          "metadata": {}
        },
        {
          "output_type": "display_data",
          "data": {
            "text/plain": [
              "<Figure size 1600x1200 with 0 Axes>"
            ]
          },
          "metadata": {}
        },
        {
          "output_type": "display_data",
          "data": {
            "text/plain": [
              "<Figure size 1600x1200 with 0 Axes>"
            ]
          },
          "metadata": {}
        },
        {
          "output_type": "display_data",
          "data": {
            "text/plain": [
              "<Figure size 1600x1200 with 0 Axes>"
            ]
          },
          "metadata": {}
        },
        {
          "output_type": "display_data",
          "data": {
            "text/plain": [
              "<Figure size 1600x1200 with 0 Axes>"
            ]
          },
          "metadata": {}
        },
        {
          "output_type": "display_data",
          "data": {
            "text/plain": [
              "<Figure size 1600x1200 with 0 Axes>"
            ]
          },
          "metadata": {}
        },
        {
          "output_type": "display_data",
          "data": {
            "text/plain": [
              "<Figure size 1600x1200 with 0 Axes>"
            ]
          },
          "metadata": {}
        },
        {
          "output_type": "display_data",
          "data": {
            "text/plain": [
              "<Figure size 1600x1200 with 0 Axes>"
            ]
          },
          "metadata": {}
        },
        {
          "output_type": "display_data",
          "data": {
            "text/plain": [
              "<Figure size 1600x1200 with 0 Axes>"
            ]
          },
          "metadata": {}
        },
        {
          "output_type": "display_data",
          "data": {
            "text/plain": [
              "<Figure size 1600x1200 with 0 Axes>"
            ]
          },
          "metadata": {}
        },
        {
          "output_type": "display_data",
          "data": {
            "text/plain": [
              "<Figure size 1600x1200 with 0 Axes>"
            ]
          },
          "metadata": {}
        },
        {
          "output_type": "display_data",
          "data": {
            "text/plain": [
              "<Figure size 1600x1200 with 0 Axes>"
            ]
          },
          "metadata": {}
        },
        {
          "output_type": "display_data",
          "data": {
            "text/plain": [
              "<Figure size 1600x1200 with 0 Axes>"
            ]
          },
          "metadata": {}
        },
        {
          "output_type": "display_data",
          "data": {
            "text/plain": [
              "<Figure size 1600x1200 with 0 Axes>"
            ]
          },
          "metadata": {}
        },
        {
          "output_type": "display_data",
          "data": {
            "text/plain": [
              "<Figure size 1600x1200 with 0 Axes>"
            ]
          },
          "metadata": {}
        },
        {
          "output_type": "display_data",
          "data": {
            "text/plain": [
              "<Figure size 1600x1200 with 0 Axes>"
            ]
          },
          "metadata": {}
        },
        {
          "output_type": "display_data",
          "data": {
            "text/plain": [
              "<Figure size 1600x1200 with 0 Axes>"
            ]
          },
          "metadata": {}
        },
        {
          "output_type": "display_data",
          "data": {
            "text/plain": [
              "<Figure size 1600x1200 with 0 Axes>"
            ]
          },
          "metadata": {}
        },
        {
          "output_type": "display_data",
          "data": {
            "text/plain": [
              "<Figure size 1600x1200 with 0 Axes>"
            ]
          },
          "metadata": {}
        },
        {
          "output_type": "display_data",
          "data": {
            "text/plain": [
              "<Figure size 1600x1200 with 0 Axes>"
            ]
          },
          "metadata": {}
        },
        {
          "output_type": "display_data",
          "data": {
            "text/plain": [
              "<Figure size 1600x1200 with 0 Axes>"
            ]
          },
          "metadata": {}
        },
        {
          "output_type": "display_data",
          "data": {
            "text/plain": [
              "<Figure size 1600x1200 with 0 Axes>"
            ]
          },
          "metadata": {}
        },
        {
          "output_type": "display_data",
          "data": {
            "text/plain": [
              "<Figure size 1600x1200 with 0 Axes>"
            ]
          },
          "metadata": {}
        },
        {
          "output_type": "display_data",
          "data": {
            "text/plain": [
              "<Figure size 1600x1200 with 0 Axes>"
            ]
          },
          "metadata": {}
        },
        {
          "output_type": "display_data",
          "data": {
            "text/plain": [
              "<Figure size 1600x1200 with 0 Axes>"
            ]
          },
          "metadata": {}
        },
        {
          "output_type": "display_data",
          "data": {
            "text/plain": [
              "<Figure size 1600x1200 with 0 Axes>"
            ]
          },
          "metadata": {}
        },
        {
          "output_type": "display_data",
          "data": {
            "text/plain": [
              "<Figure size 1600x1200 with 0 Axes>"
            ]
          },
          "metadata": {}
        },
        {
          "output_type": "display_data",
          "data": {
            "text/plain": [
              "<Figure size 1600x1200 with 0 Axes>"
            ]
          },
          "metadata": {}
        },
        {
          "output_type": "display_data",
          "data": {
            "text/plain": [
              "<Figure size 1600x1200 with 0 Axes>"
            ]
          },
          "metadata": {}
        },
        {
          "output_type": "display_data",
          "data": {
            "text/plain": [
              "<Figure size 1600x1200 with 0 Axes>"
            ]
          },
          "metadata": {}
        },
        {
          "output_type": "display_data",
          "data": {
            "text/plain": [
              "<Figure size 1600x1200 with 0 Axes>"
            ]
          },
          "metadata": {}
        },
        {
          "output_type": "display_data",
          "data": {
            "text/plain": [
              "<Figure size 1600x1200 with 0 Axes>"
            ]
          },
          "metadata": {}
        },
        {
          "output_type": "display_data",
          "data": {
            "text/plain": [
              "<Figure size 1600x1200 with 0 Axes>"
            ]
          },
          "metadata": {}
        },
        {
          "output_type": "display_data",
          "data": {
            "text/plain": [
              "<Figure size 1600x1200 with 0 Axes>"
            ]
          },
          "metadata": {}
        },
        {
          "output_type": "display_data",
          "data": {
            "text/plain": [
              "<Figure size 1600x1200 with 0 Axes>"
            ]
          },
          "metadata": {}
        },
        {
          "output_type": "display_data",
          "data": {
            "text/plain": [
              "<Figure size 1600x1200 with 0 Axes>"
            ]
          },
          "metadata": {}
        },
        {
          "output_type": "display_data",
          "data": {
            "text/plain": [
              "<Figure size 1600x1200 with 0 Axes>"
            ]
          },
          "metadata": {}
        },
        {
          "output_type": "display_data",
          "data": {
            "text/plain": [
              "<Figure size 1600x1200 with 0 Axes>"
            ]
          },
          "metadata": {}
        },
        {
          "output_type": "display_data",
          "data": {
            "text/plain": [
              "<Figure size 1600x1200 with 0 Axes>"
            ]
          },
          "metadata": {}
        },
        {
          "output_type": "display_data",
          "data": {
            "text/plain": [
              "<Figure size 1600x1200 with 0 Axes>"
            ]
          },
          "metadata": {}
        },
        {
          "output_type": "display_data",
          "data": {
            "text/plain": [
              "<Figure size 1600x1200 with 0 Axes>"
            ]
          },
          "metadata": {}
        },
        {
          "output_type": "display_data",
          "data": {
            "text/plain": [
              "<Figure size 1600x1200 with 0 Axes>"
            ]
          },
          "metadata": {}
        },
        {
          "output_type": "display_data",
          "data": {
            "text/plain": [
              "<Figure size 1600x1200 with 0 Axes>"
            ]
          },
          "metadata": {}
        },
        {
          "output_type": "display_data",
          "data": {
            "text/plain": [
              "<Figure size 1600x1200 with 0 Axes>"
            ]
          },
          "metadata": {}
        },
        {
          "output_type": "display_data",
          "data": {
            "text/plain": [
              "<Figure size 1600x1200 with 0 Axes>"
            ]
          },
          "metadata": {}
        },
        {
          "output_type": "display_data",
          "data": {
            "text/plain": [
              "<Figure size 1600x1200 with 0 Axes>"
            ]
          },
          "metadata": {}
        },
        {
          "output_type": "display_data",
          "data": {
            "text/plain": [
              "<Figure size 1600x1200 with 0 Axes>"
            ]
          },
          "metadata": {}
        },
        {
          "output_type": "display_data",
          "data": {
            "text/plain": [
              "<Figure size 1600x1200 with 0 Axes>"
            ]
          },
          "metadata": {}
        },
        {
          "output_type": "display_data",
          "data": {
            "text/plain": [
              "<Figure size 1600x1200 with 0 Axes>"
            ]
          },
          "metadata": {}
        },
        {
          "output_type": "display_data",
          "data": {
            "text/plain": [
              "<Figure size 1600x1200 with 0 Axes>"
            ]
          },
          "metadata": {}
        },
        {
          "output_type": "display_data",
          "data": {
            "text/plain": [
              "<Figure size 1600x1200 with 0 Axes>"
            ]
          },
          "metadata": {}
        },
        {
          "output_type": "display_data",
          "data": {
            "text/plain": [
              "<Figure size 1600x1200 with 0 Axes>"
            ]
          },
          "metadata": {}
        },
        {
          "output_type": "display_data",
          "data": {
            "text/plain": [
              "<Figure size 1600x1200 with 0 Axes>"
            ]
          },
          "metadata": {}
        },
        {
          "output_type": "display_data",
          "data": {
            "text/plain": [
              "<Figure size 1600x1200 with 0 Axes>"
            ]
          },
          "metadata": {}
        },
        {
          "output_type": "display_data",
          "data": {
            "text/plain": [
              "<Figure size 1600x1200 with 0 Axes>"
            ]
          },
          "metadata": {}
        },
        {
          "output_type": "display_data",
          "data": {
            "text/plain": [
              "<Figure size 1600x1200 with 0 Axes>"
            ]
          },
          "metadata": {}
        },
        {
          "output_type": "display_data",
          "data": {
            "text/plain": [
              "<Figure size 1600x1200 with 0 Axes>"
            ]
          },
          "metadata": {}
        },
        {
          "output_type": "display_data",
          "data": {
            "text/plain": [
              "<Figure size 1600x1200 with 0 Axes>"
            ]
          },
          "metadata": {}
        },
        {
          "output_type": "display_data",
          "data": {
            "text/plain": [
              "<Figure size 1600x1200 with 0 Axes>"
            ]
          },
          "metadata": {}
        },
        {
          "output_type": "display_data",
          "data": {
            "text/plain": [
              "<Figure size 1600x1200 with 0 Axes>"
            ]
          },
          "metadata": {}
        },
        {
          "output_type": "display_data",
          "data": {
            "text/plain": [
              "<Figure size 1600x1200 with 0 Axes>"
            ]
          },
          "metadata": {}
        },
        {
          "output_type": "display_data",
          "data": {
            "text/plain": [
              "<Figure size 1600x1200 with 0 Axes>"
            ]
          },
          "metadata": {}
        },
        {
          "output_type": "display_data",
          "data": {
            "text/plain": [
              "<Figure size 1600x1200 with 0 Axes>"
            ]
          },
          "metadata": {}
        },
        {
          "output_type": "display_data",
          "data": {
            "text/plain": [
              "<Figure size 1600x1200 with 0 Axes>"
            ]
          },
          "metadata": {}
        },
        {
          "output_type": "display_data",
          "data": {
            "text/plain": [
              "<Figure size 1600x1200 with 0 Axes>"
            ]
          },
          "metadata": {}
        },
        {
          "output_type": "display_data",
          "data": {
            "text/plain": [
              "<Figure size 1600x1200 with 0 Axes>"
            ]
          },
          "metadata": {}
        },
        {
          "output_type": "display_data",
          "data": {
            "text/plain": [
              "<Figure size 1600x1200 with 0 Axes>"
            ]
          },
          "metadata": {}
        },
        {
          "output_type": "display_data",
          "data": {
            "text/plain": [
              "<Figure size 1600x1200 with 0 Axes>"
            ]
          },
          "metadata": {}
        },
        {
          "output_type": "display_data",
          "data": {
            "text/plain": [
              "<Figure size 1600x1200 with 0 Axes>"
            ]
          },
          "metadata": {}
        },
        {
          "output_type": "display_data",
          "data": {
            "text/plain": [
              "<Figure size 1600x1200 with 0 Axes>"
            ]
          },
          "metadata": {}
        },
        {
          "output_type": "display_data",
          "data": {
            "text/plain": [
              "<Figure size 1600x1200 with 0 Axes>"
            ]
          },
          "metadata": {}
        },
        {
          "output_type": "display_data",
          "data": {
            "text/plain": [
              "<Figure size 1600x1200 with 0 Axes>"
            ]
          },
          "metadata": {}
        },
        {
          "output_type": "display_data",
          "data": {
            "text/plain": [
              "<Figure size 1600x1200 with 0 Axes>"
            ]
          },
          "metadata": {}
        },
        {
          "output_type": "display_data",
          "data": {
            "text/plain": [
              "<Figure size 1600x1200 with 0 Axes>"
            ]
          },
          "metadata": {}
        },
        {
          "output_type": "display_data",
          "data": {
            "text/plain": [
              "<Figure size 1600x1200 with 0 Axes>"
            ]
          },
          "metadata": {}
        },
        {
          "output_type": "display_data",
          "data": {
            "text/plain": [
              "<Figure size 1600x1200 with 0 Axes>"
            ]
          },
          "metadata": {}
        },
        {
          "output_type": "display_data",
          "data": {
            "text/plain": [
              "<Figure size 1600x1200 with 0 Axes>"
            ]
          },
          "metadata": {}
        },
        {
          "output_type": "display_data",
          "data": {
            "text/plain": [
              "<Figure size 1600x1200 with 0 Axes>"
            ]
          },
          "metadata": {}
        },
        {
          "output_type": "display_data",
          "data": {
            "text/plain": [
              "<Figure size 1600x1200 with 0 Axes>"
            ]
          },
          "metadata": {}
        },
        {
          "output_type": "display_data",
          "data": {
            "text/plain": [
              "<Figure size 1600x1200 with 0 Axes>"
            ]
          },
          "metadata": {}
        },
        {
          "output_type": "display_data",
          "data": {
            "text/plain": [
              "<Figure size 1600x1200 with 0 Axes>"
            ]
          },
          "metadata": {}
        },
        {
          "output_type": "display_data",
          "data": {
            "text/plain": [
              "<Figure size 1600x1200 with 0 Axes>"
            ]
          },
          "metadata": {}
        },
        {
          "output_type": "display_data",
          "data": {
            "text/plain": [
              "<Figure size 1600x1200 with 0 Axes>"
            ]
          },
          "metadata": {}
        },
        {
          "output_type": "display_data",
          "data": {
            "text/plain": [
              "<Figure size 1600x1200 with 0 Axes>"
            ]
          },
          "metadata": {}
        },
        {
          "output_type": "display_data",
          "data": {
            "text/plain": [
              "<Figure size 1600x1200 with 0 Axes>"
            ]
          },
          "metadata": {}
        },
        {
          "output_type": "display_data",
          "data": {
            "text/plain": [
              "<Figure size 1600x1200 with 0 Axes>"
            ]
          },
          "metadata": {}
        },
        {
          "output_type": "display_data",
          "data": {
            "text/plain": [
              "<Figure size 1600x1200 with 0 Axes>"
            ]
          },
          "metadata": {}
        },
        {
          "output_type": "display_data",
          "data": {
            "text/plain": [
              "<Figure size 1600x1200 with 0 Axes>"
            ]
          },
          "metadata": {}
        },
        {
          "output_type": "display_data",
          "data": {
            "text/plain": [
              "<Figure size 1600x1200 with 0 Axes>"
            ]
          },
          "metadata": {}
        },
        {
          "output_type": "display_data",
          "data": {
            "text/plain": [
              "<Figure size 1600x1200 with 0 Axes>"
            ]
          },
          "metadata": {}
        },
        {
          "output_type": "display_data",
          "data": {
            "text/plain": [
              "<Figure size 1600x1200 with 0 Axes>"
            ]
          },
          "metadata": {}
        },
        {
          "output_type": "display_data",
          "data": {
            "text/plain": [
              "<Figure size 1600x1200 with 0 Axes>"
            ]
          },
          "metadata": {}
        },
        {
          "output_type": "display_data",
          "data": {
            "text/plain": [
              "<Figure size 1600x1200 with 0 Axes>"
            ]
          },
          "metadata": {}
        },
        {
          "output_type": "display_data",
          "data": {
            "text/plain": [
              "<Figure size 1600x1200 with 0 Axes>"
            ]
          },
          "metadata": {}
        },
        {
          "output_type": "display_data",
          "data": {
            "text/plain": [
              "<Figure size 1600x1200 with 0 Axes>"
            ]
          },
          "metadata": {}
        },
        {
          "output_type": "display_data",
          "data": {
            "text/plain": [
              "<Figure size 1600x1200 with 0 Axes>"
            ]
          },
          "metadata": {}
        },
        {
          "output_type": "display_data",
          "data": {
            "text/plain": [
              "<Figure size 1600x1200 with 0 Axes>"
            ]
          },
          "metadata": {}
        },
        {
          "output_type": "display_data",
          "data": {
            "text/plain": [
              "<Figure size 1600x1200 with 0 Axes>"
            ]
          },
          "metadata": {}
        },
        {
          "output_type": "display_data",
          "data": {
            "text/plain": [
              "<Figure size 1600x1200 with 0 Axes>"
            ]
          },
          "metadata": {}
        },
        {
          "output_type": "display_data",
          "data": {
            "text/plain": [
              "<Figure size 1600x1200 with 0 Axes>"
            ]
          },
          "metadata": {}
        },
        {
          "output_type": "display_data",
          "data": {
            "text/plain": [
              "<Figure size 1600x1200 with 0 Axes>"
            ]
          },
          "metadata": {}
        },
        {
          "output_type": "display_data",
          "data": {
            "text/plain": [
              "<Figure size 1600x1200 with 0 Axes>"
            ]
          },
          "metadata": {}
        },
        {
          "output_type": "display_data",
          "data": {
            "text/plain": [
              "<Figure size 1600x1200 with 0 Axes>"
            ]
          },
          "metadata": {}
        },
        {
          "output_type": "display_data",
          "data": {
            "text/plain": [
              "<Figure size 1600x1200 with 0 Axes>"
            ]
          },
          "metadata": {}
        },
        {
          "output_type": "display_data",
          "data": {
            "text/plain": [
              "<Figure size 1600x1200 with 0 Axes>"
            ]
          },
          "metadata": {}
        },
        {
          "output_type": "display_data",
          "data": {
            "text/plain": [
              "<Figure size 1600x1200 with 0 Axes>"
            ]
          },
          "metadata": {}
        },
        {
          "output_type": "display_data",
          "data": {
            "text/plain": [
              "<Figure size 1600x1200 with 0 Axes>"
            ]
          },
          "metadata": {}
        },
        {
          "output_type": "display_data",
          "data": {
            "text/plain": [
              "<Figure size 1600x1200 with 0 Axes>"
            ]
          },
          "metadata": {}
        },
        {
          "output_type": "display_data",
          "data": {
            "text/plain": [
              "<Figure size 1600x1200 with 0 Axes>"
            ]
          },
          "metadata": {}
        },
        {
          "output_type": "display_data",
          "data": {
            "text/plain": [
              "<Figure size 1600x1200 with 0 Axes>"
            ]
          },
          "metadata": {}
        },
        {
          "output_type": "display_data",
          "data": {
            "text/plain": [
              "<Figure size 1600x1200 with 0 Axes>"
            ]
          },
          "metadata": {}
        },
        {
          "output_type": "display_data",
          "data": {
            "text/plain": [
              "<Figure size 1600x1200 with 0 Axes>"
            ]
          },
          "metadata": {}
        },
        {
          "output_type": "display_data",
          "data": {
            "text/plain": [
              "<Figure size 1600x1200 with 0 Axes>"
            ]
          },
          "metadata": {}
        },
        {
          "output_type": "display_data",
          "data": {
            "text/plain": [
              "<Figure size 1600x1200 with 0 Axes>"
            ]
          },
          "metadata": {}
        },
        {
          "output_type": "display_data",
          "data": {
            "text/plain": [
              "<Figure size 1600x1200 with 0 Axes>"
            ]
          },
          "metadata": {}
        },
        {
          "output_type": "display_data",
          "data": {
            "text/plain": [
              "<Figure size 1600x1200 with 0 Axes>"
            ]
          },
          "metadata": {}
        },
        {
          "output_type": "display_data",
          "data": {
            "text/plain": [
              "<Figure size 1600x1200 with 0 Axes>"
            ]
          },
          "metadata": {}
        },
        {
          "output_type": "display_data",
          "data": {
            "text/plain": [
              "<Figure size 1600x1200 with 0 Axes>"
            ]
          },
          "metadata": {}
        },
        {
          "output_type": "display_data",
          "data": {
            "text/plain": [
              "<Figure size 1600x1200 with 0 Axes>"
            ]
          },
          "metadata": {}
        },
        {
          "output_type": "display_data",
          "data": {
            "text/plain": [
              "<Figure size 1600x1200 with 0 Axes>"
            ]
          },
          "metadata": {}
        },
        {
          "output_type": "display_data",
          "data": {
            "text/plain": [
              "<Figure size 1600x1200 with 0 Axes>"
            ]
          },
          "metadata": {}
        },
        {
          "output_type": "display_data",
          "data": {
            "text/plain": [
              "<Figure size 1600x1200 with 0 Axes>"
            ]
          },
          "metadata": {}
        },
        {
          "output_type": "display_data",
          "data": {
            "text/plain": [
              "<Figure size 1600x1200 with 0 Axes>"
            ]
          },
          "metadata": {}
        },
        {
          "output_type": "display_data",
          "data": {
            "text/plain": [
              "<Figure size 1600x1200 with 0 Axes>"
            ]
          },
          "metadata": {}
        },
        {
          "output_type": "display_data",
          "data": {
            "text/plain": [
              "<Figure size 1600x1200 with 0 Axes>"
            ]
          },
          "metadata": {}
        },
        {
          "output_type": "display_data",
          "data": {
            "text/plain": [
              "<Figure size 1600x1200 with 0 Axes>"
            ]
          },
          "metadata": {}
        },
        {
          "output_type": "display_data",
          "data": {
            "text/plain": [
              "<Figure size 1600x1200 with 0 Axes>"
            ]
          },
          "metadata": {}
        },
        {
          "output_type": "display_data",
          "data": {
            "text/plain": [
              "<Figure size 1600x1200 with 0 Axes>"
            ]
          },
          "metadata": {}
        },
        {
          "output_type": "display_data",
          "data": {
            "text/plain": [
              "<Figure size 1600x1200 with 0 Axes>"
            ]
          },
          "metadata": {}
        },
        {
          "output_type": "display_data",
          "data": {
            "text/plain": [
              "<Figure size 1600x1200 with 0 Axes>"
            ]
          },
          "metadata": {}
        },
        {
          "output_type": "display_data",
          "data": {
            "text/plain": [
              "<Figure size 1600x1200 with 0 Axes>"
            ]
          },
          "metadata": {}
        },
        {
          "output_type": "display_data",
          "data": {
            "text/plain": [
              "<Figure size 1600x1200 with 0 Axes>"
            ]
          },
          "metadata": {}
        },
        {
          "output_type": "display_data",
          "data": {
            "text/plain": [
              "<Figure size 1600x1200 with 0 Axes>"
            ]
          },
          "metadata": {}
        },
        {
          "output_type": "display_data",
          "data": {
            "text/plain": [
              "<Figure size 1600x1200 with 0 Axes>"
            ]
          },
          "metadata": {}
        },
        {
          "output_type": "display_data",
          "data": {
            "text/plain": [
              "<Figure size 1600x1200 with 0 Axes>"
            ]
          },
          "metadata": {}
        },
        {
          "output_type": "display_data",
          "data": {
            "text/plain": [
              "<Figure size 1600x1200 with 0 Axes>"
            ]
          },
          "metadata": {}
        },
        {
          "output_type": "display_data",
          "data": {
            "text/plain": [
              "<Figure size 1600x1200 with 0 Axes>"
            ]
          },
          "metadata": {}
        },
        {
          "output_type": "display_data",
          "data": {
            "text/plain": [
              "<Figure size 1600x1200 with 0 Axes>"
            ]
          },
          "metadata": {}
        },
        {
          "output_type": "display_data",
          "data": {
            "text/plain": [
              "<Figure size 1600x1200 with 0 Axes>"
            ]
          },
          "metadata": {}
        },
        {
          "output_type": "display_data",
          "data": {
            "text/plain": [
              "<Figure size 1600x1200 with 0 Axes>"
            ]
          },
          "metadata": {}
        },
        {
          "output_type": "display_data",
          "data": {
            "text/plain": [
              "<Figure size 1600x1200 with 0 Axes>"
            ]
          },
          "metadata": {}
        },
        {
          "output_type": "display_data",
          "data": {
            "text/plain": [
              "<Figure size 1600x1200 with 0 Axes>"
            ]
          },
          "metadata": {}
        },
        {
          "output_type": "display_data",
          "data": {
            "text/plain": [
              "<Figure size 1600x1200 with 0 Axes>"
            ]
          },
          "metadata": {}
        },
        {
          "output_type": "display_data",
          "data": {
            "text/plain": [
              "<Figure size 1600x1200 with 0 Axes>"
            ]
          },
          "metadata": {}
        },
        {
          "output_type": "display_data",
          "data": {
            "text/plain": [
              "<Figure size 1600x1200 with 0 Axes>"
            ]
          },
          "metadata": {}
        },
        {
          "output_type": "display_data",
          "data": {
            "text/plain": [
              "<Figure size 1600x1200 with 0 Axes>"
            ]
          },
          "metadata": {}
        },
        {
          "output_type": "display_data",
          "data": {
            "text/plain": [
              "<Figure size 1600x1200 with 0 Axes>"
            ]
          },
          "metadata": {}
        },
        {
          "output_type": "display_data",
          "data": {
            "text/plain": [
              "<Figure size 1600x1200 with 0 Axes>"
            ]
          },
          "metadata": {}
        },
        {
          "output_type": "display_data",
          "data": {
            "text/plain": [
              "<Figure size 1600x1200 with 0 Axes>"
            ]
          },
          "metadata": {}
        },
        {
          "output_type": "display_data",
          "data": {
            "text/plain": [
              "<Figure size 1600x1200 with 0 Axes>"
            ]
          },
          "metadata": {}
        },
        {
          "output_type": "display_data",
          "data": {
            "text/plain": [
              "<Figure size 1600x1200 with 0 Axes>"
            ]
          },
          "metadata": {}
        },
        {
          "output_type": "display_data",
          "data": {
            "text/plain": [
              "<Figure size 1600x1200 with 0 Axes>"
            ]
          },
          "metadata": {}
        },
        {
          "output_type": "display_data",
          "data": {
            "text/plain": [
              "<Figure size 1600x1200 with 0 Axes>"
            ]
          },
          "metadata": {}
        },
        {
          "output_type": "display_data",
          "data": {
            "text/plain": [
              "<Figure size 1600x1200 with 0 Axes>"
            ]
          },
          "metadata": {}
        },
        {
          "output_type": "display_data",
          "data": {
            "text/plain": [
              "<Figure size 1600x1200 with 0 Axes>"
            ]
          },
          "metadata": {}
        },
        {
          "output_type": "display_data",
          "data": {
            "text/plain": [
              "<Figure size 1600x1200 with 0 Axes>"
            ]
          },
          "metadata": {}
        },
        {
          "output_type": "display_data",
          "data": {
            "text/plain": [
              "<Figure size 1600x1200 with 0 Axes>"
            ]
          },
          "metadata": {}
        },
        {
          "output_type": "display_data",
          "data": {
            "text/plain": [
              "<Figure size 1600x1200 with 0 Axes>"
            ]
          },
          "metadata": {}
        },
        {
          "output_type": "display_data",
          "data": {
            "text/plain": [
              "<Figure size 1600x1200 with 0 Axes>"
            ]
          },
          "metadata": {}
        },
        {
          "output_type": "display_data",
          "data": {
            "text/plain": [
              "<Figure size 1600x1200 with 0 Axes>"
            ]
          },
          "metadata": {}
        },
        {
          "output_type": "display_data",
          "data": {
            "text/plain": [
              "<Figure size 1600x1200 with 0 Axes>"
            ]
          },
          "metadata": {}
        },
        {
          "output_type": "display_data",
          "data": {
            "text/plain": [
              "<Figure size 1600x1200 with 0 Axes>"
            ]
          },
          "metadata": {}
        },
        {
          "output_type": "display_data",
          "data": {
            "text/plain": [
              "<Figure size 1600x1200 with 0 Axes>"
            ]
          },
          "metadata": {}
        },
        {
          "output_type": "display_data",
          "data": {
            "text/plain": [
              "<Figure size 1600x1200 with 0 Axes>"
            ]
          },
          "metadata": {}
        },
        {
          "output_type": "display_data",
          "data": {
            "text/plain": [
              "<Figure size 1600x1200 with 0 Axes>"
            ]
          },
          "metadata": {}
        },
        {
          "output_type": "display_data",
          "data": {
            "text/plain": [
              "<Figure size 1600x1200 with 0 Axes>"
            ]
          },
          "metadata": {}
        },
        {
          "output_type": "display_data",
          "data": {
            "text/plain": [
              "<Figure size 1600x1200 with 0 Axes>"
            ]
          },
          "metadata": {}
        },
        {
          "output_type": "display_data",
          "data": {
            "text/plain": [
              "<Figure size 1600x1200 with 0 Axes>"
            ]
          },
          "metadata": {}
        },
        {
          "output_type": "display_data",
          "data": {
            "text/plain": [
              "<Figure size 1600x1200 with 0 Axes>"
            ]
          },
          "metadata": {}
        },
        {
          "output_type": "display_data",
          "data": {
            "text/plain": [
              "<Figure size 1600x1200 with 0 Axes>"
            ]
          },
          "metadata": {}
        },
        {
          "output_type": "display_data",
          "data": {
            "text/plain": [
              "<Figure size 1600x1200 with 0 Axes>"
            ]
          },
          "metadata": {}
        },
        {
          "output_type": "display_data",
          "data": {
            "text/plain": [
              "<Figure size 1600x1200 with 0 Axes>"
            ]
          },
          "metadata": {}
        },
        {
          "output_type": "display_data",
          "data": {
            "text/plain": [
              "<Figure size 1600x1200 with 0 Axes>"
            ]
          },
          "metadata": {}
        },
        {
          "output_type": "display_data",
          "data": {
            "text/plain": [
              "<Figure size 1600x1200 with 0 Axes>"
            ]
          },
          "metadata": {}
        },
        {
          "output_type": "display_data",
          "data": {
            "text/plain": [
              "<Figure size 1600x1200 with 0 Axes>"
            ]
          },
          "metadata": {}
        },
        {
          "output_type": "display_data",
          "data": {
            "text/plain": [
              "<Figure size 1600x1200 with 0 Axes>"
            ]
          },
          "metadata": {}
        },
        {
          "output_type": "display_data",
          "data": {
            "text/plain": [
              "<Figure size 1600x1200 with 0 Axes>"
            ]
          },
          "metadata": {}
        },
        {
          "output_type": "display_data",
          "data": {
            "text/plain": [
              "<Figure size 1600x1200 with 0 Axes>"
            ]
          },
          "metadata": {}
        },
        {
          "output_type": "display_data",
          "data": {
            "text/plain": [
              "<Figure size 1600x1200 with 0 Axes>"
            ]
          },
          "metadata": {}
        },
        {
          "output_type": "display_data",
          "data": {
            "text/plain": [
              "<Figure size 1600x1200 with 0 Axes>"
            ]
          },
          "metadata": {}
        },
        {
          "output_type": "display_data",
          "data": {
            "text/plain": [
              "<Figure size 1600x1200 with 0 Axes>"
            ]
          },
          "metadata": {}
        },
        {
          "output_type": "display_data",
          "data": {
            "text/plain": [
              "<Figure size 1600x1200 with 0 Axes>"
            ]
          },
          "metadata": {}
        },
        {
          "output_type": "display_data",
          "data": {
            "text/plain": [
              "<Figure size 1600x1200 with 0 Axes>"
            ]
          },
          "metadata": {}
        },
        {
          "output_type": "display_data",
          "data": {
            "text/plain": [
              "<Figure size 1600x1200 with 0 Axes>"
            ]
          },
          "metadata": {}
        },
        {
          "output_type": "display_data",
          "data": {
            "text/plain": [
              "<Figure size 1600x1200 with 0 Axes>"
            ]
          },
          "metadata": {}
        },
        {
          "output_type": "display_data",
          "data": {
            "text/plain": [
              "<Figure size 1600x1200 with 0 Axes>"
            ]
          },
          "metadata": {}
        },
        {
          "output_type": "display_data",
          "data": {
            "text/plain": [
              "<Figure size 1600x1200 with 0 Axes>"
            ]
          },
          "metadata": {}
        },
        {
          "output_type": "display_data",
          "data": {
            "text/plain": [
              "<Figure size 1600x1200 with 0 Axes>"
            ]
          },
          "metadata": {}
        },
        {
          "output_type": "display_data",
          "data": {
            "text/plain": [
              "<Figure size 1600x1200 with 0 Axes>"
            ]
          },
          "metadata": {}
        },
        {
          "output_type": "display_data",
          "data": {
            "text/plain": [
              "<Figure size 1600x1200 with 0 Axes>"
            ]
          },
          "metadata": {}
        },
        {
          "output_type": "display_data",
          "data": {
            "text/plain": [
              "<Figure size 1600x1200 with 0 Axes>"
            ]
          },
          "metadata": {}
        },
        {
          "output_type": "display_data",
          "data": {
            "text/plain": [
              "<Figure size 1600x1200 with 0 Axes>"
            ]
          },
          "metadata": {}
        },
        {
          "output_type": "display_data",
          "data": {
            "text/plain": [
              "<Figure size 1600x1200 with 0 Axes>"
            ]
          },
          "metadata": {}
        },
        {
          "output_type": "display_data",
          "data": {
            "text/plain": [
              "<Figure size 1600x1200 with 0 Axes>"
            ]
          },
          "metadata": {}
        },
        {
          "output_type": "display_data",
          "data": {
            "text/plain": [
              "<Figure size 1600x1200 with 0 Axes>"
            ]
          },
          "metadata": {}
        }
      ]
    },
    {
      "cell_type": "code",
      "source": [
        "\n",
        "N = 300\n",
        "n = range(1,N+1)\n",
        "entr = [entropy(way_to(img,i)) for i in n]\n",
        "std = [stdev_matrix(way_to(img,i)) for i in n]\n",
        "mod = [ mode_matrix(way_to(img,i)) for i in n]\n",
        "new_img = way_to(img,N)\n",
        "\n",
        "# ploting\n",
        "plt.figure(figsize=(16, 9))\n",
        "ax1 = plt.subplot(2,1,1)\n",
        "ax2 = plt.subplot(2,3,4)\n",
        "ax3 = plt.subplot(2,3,5)\n",
        "ax4 = plt.subplot(2,3,6)\n",
        "\n",
        "\n",
        "cax = ax1.imshow(new_img)\n",
        "plt.colorbar(cax)\n",
        "ax2.plot(n,entr)\n",
        "ax3.plot(n,std)\n",
        "ax4.plot(n,mod)\n",
        "#new_img\n"
      ],
      "metadata": {
        "id": "mBCFtf-xJV5o",
        "colab": {
          "base_uri": "https://localhost:8080/",
          "height": 332
        },
        "outputId": "aee37526-0761-4d7c-8657-f1f8ea07d1a5"
      },
      "execution_count": 6,
      "outputs": [
        {
          "output_type": "error",
          "ename": "NameError",
          "evalue": "name 'entropy' is not defined",
          "traceback": [
            "\u001b[0;31m---------------------------------------------------------------------------\u001b[0m",
            "\u001b[0;31mNameError\u001b[0m                                 Traceback (most recent call last)",
            "\u001b[0;32m<ipython-input-6-c21b15f2b65c>\u001b[0m in \u001b[0;36m<cell line: 3>\u001b[0;34m()\u001b[0m\n\u001b[1;32m      1\u001b[0m \u001b[0mN\u001b[0m \u001b[0;34m=\u001b[0m \u001b[0;36m300\u001b[0m\u001b[0;34m\u001b[0m\u001b[0;34m\u001b[0m\u001b[0m\n\u001b[1;32m      2\u001b[0m \u001b[0mn\u001b[0m \u001b[0;34m=\u001b[0m \u001b[0mrange\u001b[0m\u001b[0;34m(\u001b[0m\u001b[0;36m1\u001b[0m\u001b[0;34m,\u001b[0m\u001b[0mN\u001b[0m\u001b[0;34m+\u001b[0m\u001b[0;36m1\u001b[0m\u001b[0;34m)\u001b[0m\u001b[0;34m\u001b[0m\u001b[0;34m\u001b[0m\u001b[0m\n\u001b[0;32m----> 3\u001b[0;31m \u001b[0mentr\u001b[0m \u001b[0;34m=\u001b[0m \u001b[0;34m[\u001b[0m\u001b[0mentropy\u001b[0m\u001b[0;34m(\u001b[0m\u001b[0mway_to\u001b[0m\u001b[0;34m(\u001b[0m\u001b[0mimg\u001b[0m\u001b[0;34m,\u001b[0m\u001b[0mi\u001b[0m\u001b[0;34m)\u001b[0m\u001b[0;34m)\u001b[0m \u001b[0;32mfor\u001b[0m \u001b[0mi\u001b[0m \u001b[0;32min\u001b[0m \u001b[0mn\u001b[0m\u001b[0;34m]\u001b[0m\u001b[0;34m\u001b[0m\u001b[0;34m\u001b[0m\u001b[0m\n\u001b[0m\u001b[1;32m      4\u001b[0m \u001b[0mstd\u001b[0m \u001b[0;34m=\u001b[0m \u001b[0;34m[\u001b[0m\u001b[0mstdev_matrix\u001b[0m\u001b[0;34m(\u001b[0m\u001b[0mway_to\u001b[0m\u001b[0;34m(\u001b[0m\u001b[0mimg\u001b[0m\u001b[0;34m,\u001b[0m\u001b[0mi\u001b[0m\u001b[0;34m)\u001b[0m\u001b[0;34m)\u001b[0m \u001b[0;32mfor\u001b[0m \u001b[0mi\u001b[0m \u001b[0;32min\u001b[0m \u001b[0mn\u001b[0m\u001b[0;34m]\u001b[0m\u001b[0;34m\u001b[0m\u001b[0;34m\u001b[0m\u001b[0m\n\u001b[1;32m      5\u001b[0m \u001b[0mmod\u001b[0m \u001b[0;34m=\u001b[0m \u001b[0;34m[\u001b[0m \u001b[0mmode_matrix\u001b[0m\u001b[0;34m(\u001b[0m\u001b[0mway_to\u001b[0m\u001b[0;34m(\u001b[0m\u001b[0mimg\u001b[0m\u001b[0;34m,\u001b[0m\u001b[0mi\u001b[0m\u001b[0;34m)\u001b[0m\u001b[0;34m)\u001b[0m \u001b[0;32mfor\u001b[0m \u001b[0mi\u001b[0m \u001b[0;32min\u001b[0m \u001b[0mn\u001b[0m\u001b[0;34m]\u001b[0m\u001b[0;34m\u001b[0m\u001b[0;34m\u001b[0m\u001b[0m\n",
            "\u001b[0;32m<ipython-input-6-c21b15f2b65c>\u001b[0m in \u001b[0;36m<listcomp>\u001b[0;34m(.0)\u001b[0m\n\u001b[1;32m      1\u001b[0m \u001b[0mN\u001b[0m \u001b[0;34m=\u001b[0m \u001b[0;36m300\u001b[0m\u001b[0;34m\u001b[0m\u001b[0;34m\u001b[0m\u001b[0m\n\u001b[1;32m      2\u001b[0m \u001b[0mn\u001b[0m \u001b[0;34m=\u001b[0m \u001b[0mrange\u001b[0m\u001b[0;34m(\u001b[0m\u001b[0;36m1\u001b[0m\u001b[0;34m,\u001b[0m\u001b[0mN\u001b[0m\u001b[0;34m+\u001b[0m\u001b[0;36m1\u001b[0m\u001b[0;34m)\u001b[0m\u001b[0;34m\u001b[0m\u001b[0;34m\u001b[0m\u001b[0m\n\u001b[0;32m----> 3\u001b[0;31m \u001b[0mentr\u001b[0m \u001b[0;34m=\u001b[0m \u001b[0;34m[\u001b[0m\u001b[0mentropy\u001b[0m\u001b[0;34m(\u001b[0m\u001b[0mway_to\u001b[0m\u001b[0;34m(\u001b[0m\u001b[0mimg\u001b[0m\u001b[0;34m,\u001b[0m\u001b[0mi\u001b[0m\u001b[0;34m)\u001b[0m\u001b[0;34m)\u001b[0m \u001b[0;32mfor\u001b[0m \u001b[0mi\u001b[0m \u001b[0;32min\u001b[0m \u001b[0mn\u001b[0m\u001b[0;34m]\u001b[0m\u001b[0;34m\u001b[0m\u001b[0;34m\u001b[0m\u001b[0m\n\u001b[0m\u001b[1;32m      4\u001b[0m \u001b[0mstd\u001b[0m \u001b[0;34m=\u001b[0m \u001b[0;34m[\u001b[0m\u001b[0mstdev_matrix\u001b[0m\u001b[0;34m(\u001b[0m\u001b[0mway_to\u001b[0m\u001b[0;34m(\u001b[0m\u001b[0mimg\u001b[0m\u001b[0;34m,\u001b[0m\u001b[0mi\u001b[0m\u001b[0;34m)\u001b[0m\u001b[0;34m)\u001b[0m \u001b[0;32mfor\u001b[0m \u001b[0mi\u001b[0m \u001b[0;32min\u001b[0m \u001b[0mn\u001b[0m\u001b[0;34m]\u001b[0m\u001b[0;34m\u001b[0m\u001b[0;34m\u001b[0m\u001b[0m\n\u001b[1;32m      5\u001b[0m \u001b[0mmod\u001b[0m \u001b[0;34m=\u001b[0m \u001b[0;34m[\u001b[0m \u001b[0mmode_matrix\u001b[0m\u001b[0;34m(\u001b[0m\u001b[0mway_to\u001b[0m\u001b[0;34m(\u001b[0m\u001b[0mimg\u001b[0m\u001b[0;34m,\u001b[0m\u001b[0mi\u001b[0m\u001b[0;34m)\u001b[0m\u001b[0;34m)\u001b[0m \u001b[0;32mfor\u001b[0m \u001b[0mi\u001b[0m \u001b[0;32min\u001b[0m \u001b[0mn\u001b[0m\u001b[0;34m]\u001b[0m\u001b[0;34m\u001b[0m\u001b[0;34m\u001b[0m\u001b[0m\n",
            "\u001b[0;31mNameError\u001b[0m: name 'entropy' is not defined"
          ]
        }
      ]
    },
    {
      "cell_type": "code",
      "source": [],
      "metadata": {
        "id": "e1SH_W8IIGhL"
      },
      "execution_count": null,
      "outputs": []
    },
    {
      "cell_type": "code",
      "source": [
        "print(sum(img[0]))\n",
        "print(sum(new_img[10]))"
      ],
      "metadata": {
        "colab": {
          "base_uri": "https://localhost:8080/"
        },
        "id": "AJr99nXzEn3R",
        "outputId": "32d1d5c2-40b1-4b21-c1f9-064999c244c7"
      },
      "execution_count": null,
      "outputs": [
        {
          "output_type": "stream",
          "name": "stdout",
          "text": [
            "3000.0\n",
            "3000.0\n"
          ]
        }
      ]
    },
    {
      "cell_type": "code",
      "source": [],
      "metadata": {
        "id": "uLmAbCG2j4YE"
      },
      "execution_count": 5,
      "outputs": []
    },
    {
      "cell_type": "code",
      "source": [
        "entropy(new_img)"
      ],
      "metadata": {
        "colab": {
          "base_uri": "https://localhost:8080/"
        },
        "id": "58wQghWpkQQ_",
        "outputId": "5f3c1d4c-9349-439b-a97a-81d94a1e94cc"
      },
      "execution_count": null,
      "outputs": [
        {
          "output_type": "stream",
          "name": "stdout",
          "text": [
            "1.0\n"
          ]
        },
        {
          "output_type": "execute_result",
          "data": {
            "text/plain": [
              "0.0"
            ]
          },
          "metadata": {},
          "execution_count": 106
        }
      ]
    },
    {
      "cell_type": "code",
      "source": [],
      "metadata": {
        "id": "GIigc-FEkSjp"
      },
      "execution_count": null,
      "outputs": []
    }
  ]
}