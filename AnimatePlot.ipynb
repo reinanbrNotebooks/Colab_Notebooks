{
  "nbformat": 4,
  "nbformat_minor": 0,
  "metadata": {
    "colab": {
      "provenance": [],
      "authorship_tag": "ABX9TyNv4RJfOESOLRCYF+Sf9GEN",
      "include_colab_link": true
    },
    "kernelspec": {
      "name": "python3",
      "display_name": "Python 3"
    },
    "language_info": {
      "name": "python"
    },
    "widgets": {
      "application/vnd.jupyter.widget-state+json": {
        "274322efc2d2438d84a7c7de1958a19d": {
          "model_module": "@jupyter-widgets/controls",
          "model_name": "VideoModel",
          "model_module_version": "1.5.0",
          "state": {
            "_dom_classes": [],
            "_model_module": "@jupyter-widgets/controls",
            "_model_module_version": "1.5.0",
            "_model_name": "VideoModel",
            "_view_count": null,
            "_view_module": "@jupyter-widgets/controls",
            "_view_module_version": "1.5.0",
            "_view_name": "VideoView",
            "autoplay": true,
            "controls": true,
            "format": "mp4",
            "height": "350",
            "layout": "IPY_MODEL_07c71c89c4694789bbf7bda8b382e176",
            "loop": true,
            "width": "600"
          }
        },
        "07c71c89c4694789bbf7bda8b382e176": {
          "model_module": "@jupyter-widgets/base",
          "model_name": "LayoutModel",
          "model_module_version": "1.2.0",
          "state": {
            "_model_module": "@jupyter-widgets/base",
            "_model_module_version": "1.2.0",
            "_model_name": "LayoutModel",
            "_view_count": null,
            "_view_module": "@jupyter-widgets/base",
            "_view_module_version": "1.2.0",
            "_view_name": "LayoutView",
            "align_content": null,
            "align_items": null,
            "align_self": null,
            "border": null,
            "bottom": null,
            "display": null,
            "flex": null,
            "flex_flow": null,
            "grid_area": null,
            "grid_auto_columns": null,
            "grid_auto_flow": null,
            "grid_auto_rows": null,
            "grid_column": null,
            "grid_gap": null,
            "grid_row": null,
            "grid_template_areas": null,
            "grid_template_columns": null,
            "grid_template_rows": null,
            "height": null,
            "justify_content": null,
            "justify_items": null,
            "left": null,
            "margin": null,
            "max_height": null,
            "max_width": null,
            "min_height": null,
            "min_width": null,
            "object_fit": null,
            "object_position": null,
            "order": null,
            "overflow": null,
            "overflow_x": null,
            "overflow_y": null,
            "padding": null,
            "right": null,
            "top": null,
            "visibility": null,
            "width": null
          }
        }
      }
    }
  },
  "cells": [
    {
      "cell_type": "markdown",
      "metadata": {
        "id": "view-in-github",
        "colab_type": "text"
      },
      "source": [
        "<a href=\"https://colab.research.google.com/github/reinanbrNotebooks/Colab_Notebooks/blob/main/AnimatePlot.ipynb\" target=\"_parent\"><img src=\"https://colab.research.google.com/assets/colab-badge.svg\" alt=\"Open In Colab\"/></a>"
      ]
    },
    {
      "cell_type": "code",
      "execution_count": 1,
      "metadata": {
        "colab": {
          "base_uri": "https://localhost:8080/"
        },
        "id": "DCeqH9nBjY5s",
        "outputId": "62ef9798-4712-4708-e08a-844f4be69a90"
      },
      "outputs": [
        {
          "output_type": "stream",
          "name": "stdout",
          "text": [
            "Collecting animateplot\n",
            "  Downloading animateplot-0.4.1.2-py3-none-any.whl (18 kB)\n",
            "Requirement already satisfied: imageio in /usr/local/lib/python3.10/dist-packages (from animateplot) (2.31.6)\n",
            "Requirement already satisfied: matplotlib in /usr/local/lib/python3.10/dist-packages (from animateplot) (3.7.1)\n",
            "Requirement already satisfied: moviepy in /usr/local/lib/python3.10/dist-packages (from animateplot) (1.0.3)\n",
            "Requirement already satisfied: numpy in /usr/local/lib/python3.10/dist-packages (from animateplot) (1.25.2)\n",
            "Requirement already satisfied: opencv-python in /usr/local/lib/python3.10/dist-packages (from animateplot) (4.8.0.76)\n",
            "Requirement already satisfied: pillow<10.1.0,>=8.3.2 in /usr/local/lib/python3.10/dist-packages (from imageio->animateplot) (9.4.0)\n",
            "Requirement already satisfied: contourpy>=1.0.1 in /usr/local/lib/python3.10/dist-packages (from matplotlib->animateplot) (1.2.0)\n",
            "Requirement already satisfied: cycler>=0.10 in /usr/local/lib/python3.10/dist-packages (from matplotlib->animateplot) (0.12.1)\n",
            "Requirement already satisfied: fonttools>=4.22.0 in /usr/local/lib/python3.10/dist-packages (from matplotlib->animateplot) (4.49.0)\n",
            "Requirement already satisfied: kiwisolver>=1.0.1 in /usr/local/lib/python3.10/dist-packages (from matplotlib->animateplot) (1.4.5)\n",
            "Requirement already satisfied: packaging>=20.0 in /usr/local/lib/python3.10/dist-packages (from matplotlib->animateplot) (24.0)\n",
            "Requirement already satisfied: pyparsing>=2.3.1 in /usr/local/lib/python3.10/dist-packages (from matplotlib->animateplot) (3.1.2)\n",
            "Requirement already satisfied: python-dateutil>=2.7 in /usr/local/lib/python3.10/dist-packages (from matplotlib->animateplot) (2.8.2)\n",
            "Requirement already satisfied: decorator<5.0,>=4.0.2 in /usr/local/lib/python3.10/dist-packages (from moviepy->animateplot) (4.4.2)\n",
            "Requirement already satisfied: tqdm<5.0,>=4.11.2 in /usr/local/lib/python3.10/dist-packages (from moviepy->animateplot) (4.66.2)\n",
            "Requirement already satisfied: requests<3.0,>=2.8.1 in /usr/local/lib/python3.10/dist-packages (from moviepy->animateplot) (2.31.0)\n",
            "Requirement already satisfied: proglog<=1.0.0 in /usr/local/lib/python3.10/dist-packages (from moviepy->animateplot) (0.1.10)\n",
            "Requirement already satisfied: imageio-ffmpeg>=0.2.0 in /usr/local/lib/python3.10/dist-packages (from moviepy->animateplot) (0.4.9)\n",
            "Requirement already satisfied: setuptools in /usr/local/lib/python3.10/dist-packages (from imageio-ffmpeg>=0.2.0->moviepy->animateplot) (67.7.2)\n",
            "Requirement already satisfied: six>=1.5 in /usr/local/lib/python3.10/dist-packages (from python-dateutil>=2.7->matplotlib->animateplot) (1.16.0)\n",
            "Requirement already satisfied: charset-normalizer<4,>=2 in /usr/local/lib/python3.10/dist-packages (from requests<3.0,>=2.8.1->moviepy->animateplot) (3.3.2)\n",
            "Requirement already satisfied: idna<4,>=2.5 in /usr/local/lib/python3.10/dist-packages (from requests<3.0,>=2.8.1->moviepy->animateplot) (3.6)\n",
            "Requirement already satisfied: urllib3<3,>=1.21.1 in /usr/local/lib/python3.10/dist-packages (from requests<3.0,>=2.8.1->moviepy->animateplot) (2.0.7)\n",
            "Requirement already satisfied: certifi>=2017.4.17 in /usr/local/lib/python3.10/dist-packages (from requests<3.0,>=2.8.1->moviepy->animateplot) (2024.2.2)\n",
            "Installing collected packages: animateplot\n",
            "Successfully installed animateplot-0.4.1.2\n"
          ]
        }
      ],
      "source": [
        "!pip3 install animateplot -U"
      ]
    },
    {
      "cell_type": "code",
      "source": [
        "from animateplot import AnimatePlot as ap"
      ],
      "metadata": {
        "id": "Xpc6ODoM3iEQ"
      },
      "execution_count": 2,
      "outputs": []
    },
    {
      "cell_type": "markdown",
      "source": [
        "#Heaviside in Fourier Series\n",
        "\n",
        "The HeavySide Step Function is write in\n",
        "$$\n",
        "H(x) = \\begin{cases}\n",
        "  -1 & \\text{if } x \\text{ is } \\text{odd} \\\\\n",
        "   1 & \\text{if } x \\text{ is } \\text{even}\n",
        "\\end{cases}\n",
        "$$\n",
        "\n",
        "It in Fourier Series is\n",
        "\n",
        "$$\n",
        "H(x) = \\sum_{n=1}^{\\infty}A_n\\sin(n\\pi x) \\space , A_n=\\begin{cases}\n",
        "4/\\pi n & x \\text{ is } \\text{odd} \\\\\n",
        "0 & x \\text{ is } \\text{even}\n",
        "\\end{cases}\n",
        "$$\n"
      ],
      "metadata": {
        "id": "RAdVnAeZHKIH"
      }
    },
    {
      "cell_type": "code",
      "source": [
        "import matplotlib.pyplot as plt\n",
        "import numpy as np\n",
        "import warnings\n",
        "\n",
        "plt.style.use('classic')\n",
        "plt.style.use('dark_background')\n",
        "warnings.filterwarnings(\"ignore\", category=UserWarning, module=\"matplotlib\")\n",
        "\n",
        "\n",
        "\n",
        "def heavside_fourier(N,space_x):\n",
        "  x = space_x\n",
        "  res = 0\n",
        "  for n in range(1,N+1):\n",
        "    sen_f = np.sin(np.pi*n*x)\n",
        "    A_n = 4/(np.pi*n) if not n%2==0 else 0\n",
        "    res += (A_n*sen_f)\n",
        "    #print(res)\n",
        "  return res\n",
        "\n",
        "\n",
        "\n",
        "N = 100\n",
        "n = [i for i in range(1,N)]\n",
        "def plot_main(i,plt):\n",
        "\n",
        "  x = np.linspace(-1,1,100)\n",
        "  res = heavside_fourier(n[i],x)\n",
        "  plt.title(f\"Função Degrau de Heaviside \\nem Série de Fourier com {n[i]} Termos\",fontweight='bold')\n",
        "  plt.plot(x,res,lw=2.5,color='red')\n",
        "  plt.grid(True, linestyle='--', lw=.5, color='gray')\n",
        "\n",
        "  heavi = r\"$\\mathcal{H}(x) = $\"\n",
        "  plt.annotate(heavi,xy=(-.9,.7),size=14)\n",
        "\n",
        "  heavi_odd = r\"$1$\" +', se ' +r'$x$'+ ' é impar'\n",
        "  plt.annotate(heavi_odd,xy=(-.68,.8),size=14)\n",
        "\n",
        "  heavi_even = r\"$-1$\" +', se ' +r'$x$'+ ' é par'\n",
        "  plt.annotate(heavi_even,xy=(-.68,.6),size=14)\n",
        "\n",
        "\n",
        "\n",
        "  fourier_heavi = r\"$\\mathcal{H}(x) = \\sum_{n=1}^{\\infty}\\mathcal{A}_n\\sin(n\\pi x) $\"\n",
        "  plt.annotate(fourier_heavi,xy=(.17,-.4),size=17)\n",
        "\n",
        "  fourier_heavi_An = r\"$\\mathcal{A}_n = $\"\n",
        "  plt.annotate(fourier_heavi_An,xy=(.2,-.9),size=15)\n",
        "\n",
        "  fourier_heavi_An_odd = r\"$4/\\pi n$\" +', se ' +r'$x$'+ ' is impar'\n",
        "  plt.annotate(fourier_heavi_An_odd,xy=(.36,-.8),size=14)\n",
        "\n",
        "  fourier_heavi_An_even = r\"$0$\" +', se ' +r'$x$'+ ' é par'\n",
        "  plt.annotate(fourier_heavi_An_even,xy=(.36,-1),size=14)\n",
        "\n",
        "  plt.axhline(y=0,lw=1.3)\n",
        "  plt.axvline(x=0,lw=1.3)\n",
        "\n",
        "  return plt\n",
        "\n",
        "\n",
        "\n",
        "\n",
        "\n",
        "\n",
        "# configurar para receber o x daqui e não a intent dele\n",
        "animat = ap(n,plot_main,dpi=200)\n",
        "animat.render_cache()\n",
        "animat.render_mp4(path_video=f\"video_heaviside={max}.mp4\",fps=8)\n"
      ],
      "metadata": {
        "colab": {
          "base_uri": "https://localhost:8080/",
          "height": 631,
          "referenced_widgets": [
            "274322efc2d2438d84a7c7de1958a19d",
            "07c71c89c4694789bbf7bda8b382e176"
          ]
        },
        "id": "upAdBpbN3okA",
        "outputId": "19a49bdb-b446-4c43-c64b-597534424f18"
      },
      "execution_count": 130,
      "outputs": [
        {
          "output_type": "stream",
          "name": "stdout",
          "text": [
            "ended saved cache images! \n",
            "[99 images saved in 44.9s | speed: 2.2/img/s | ping: 453.2ms]\n",
            "Moviepy - Building video video_heaviside=<built-in function max>.mp4.\n",
            "Moviepy - Writing video video_heaviside=<built-in function max>.mp4\n",
            "\n"
          ]
        },
        {
          "output_type": "stream",
          "name": "stderr",
          "text": []
        },
        {
          "output_type": "stream",
          "name": "stdout",
          "text": [
            "Moviepy - Done !\n",
            "Moviepy - video ready video_heaviside=<built-in function max>.mp4\n",
            "playing video_heaviside=<built-in function max>.mp4\n"
          ]
        },
        {
          "output_type": "display_data",
          "data": {
            "text/plain": [
              "Video(value=b'\\x00\\x00\\x00 ftypisom\\x00\\x00\\x02\\x00isomiso2avc1mp41\\x00\\x00\\x00\\x08free\\x00\\x06\\xf1\\xaamdat\\x0…"
            ],
            "application/vnd.jupyter.widget-view+json": {
              "version_major": 2,
              "version_minor": 0,
              "model_id": "274322efc2d2438d84a7c7de1958a19d"
            }
          },
          "metadata": {}
        },
        {
          "output_type": "display_data",
          "data": {
            "text/plain": [
              "<Figure size 640x480 with 0 Axes>"
            ]
          },
          "metadata": {}
        }
      ]
    },
    {
      "cell_type": "code",
      "source": [],
      "metadata": {
        "id": "ESsnXWkpQ74Q"
      },
      "execution_count": null,
      "outputs": []
    }
  ]
}